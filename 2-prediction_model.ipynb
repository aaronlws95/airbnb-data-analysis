{
 "cells": [
  {
   "cell_type": "markdown",
   "id": "a3e878c7",
   "metadata": {},
   "source": [
    "# Introduction\n",
    "\n",
    "In this notebook, we will try to predict the aggregate review score using the given listings data with just linear regression. We focus on the **Data Modelling** section of the [CRISP-DM](https://en.wikipedia.org/wiki/Cross-industry_standard_process_for_data_mining) methodology."
   ]
  },
  {
   "cell_type": "markdown",
   "id": "4fbb14d4",
   "metadata": {},
   "source": [
    "# Section 1: Business Understanding\n",
    "\n",
    "**1. Can we predict if a listing will be successful on Airbnb?**"
   ]
  },
  {
   "cell_type": "markdown",
   "id": "9b43f212",
   "metadata": {},
   "source": [
    "## Import libraries"
   ]
  },
  {
   "cell_type": "code",
   "execution_count": 1,
   "id": "cd45a159",
   "metadata": {},
   "outputs": [],
   "source": [
    "import numpy as np\n",
    "import pandas as pd\n",
    "import seaborn as sns\n",
    "import matplotlib.pyplot as plt\n",
    "from pathlib import Path\n",
    "from IPython.display import display\n",
    "from transformers import pipeline\n",
    "from tqdm.notebook import tqdm\n",
    "from sklearn.linear_model import LinearRegression\n",
    "from sklearn.model_selection import train_test_split\n",
    "from sklearn.metrics import r2_score, mean_squared_error\n",
    "%matplotlib inline\n",
    "plt.rcParams[\"figure.figsize\"] = (8,8)\n",
    "plt.rcParams['font.size'] = 16"
   ]
  },
  {
   "cell_type": "markdown",
   "id": "9a0a9c91",
   "metadata": {},
   "source": [
    "# Section 2: Data Understanding"
   ]
  },
  {
   "cell_type": "markdown",
   "id": "58328540",
   "metadata": {},
   "source": [
    "## Access: Load data"
   ]
  },
  {
   "cell_type": "code",
   "execution_count": 2,
   "id": "72d4c78b",
   "metadata": {},
   "outputs": [],
   "source": [
    "data_folder_name = \"data/seattle\"\n",
    "csv_files = Path(data_folder_name).glob(\"*.csv\")\n",
    "csv_files = [x for x in csv_files]"
   ]
  },
  {
   "cell_type": "code",
   "execution_count": 3,
   "id": "bfc013a8",
   "metadata": {},
   "outputs": [],
   "source": [
    "dfs = {}\n",
    "for x in csv_files:\n",
    "    dfs[str(x.name).split(\".\")[0]] = pd.read_csv(x)"
   ]
  },
  {
   "cell_type": "code",
   "execution_count": 4,
   "id": "63875d87",
   "metadata": {},
   "outputs": [],
   "source": [
    "df_listings = dfs[\"listings\"].copy()"
   ]
  },
  {
   "cell_type": "markdown",
   "id": "2ee6a41c",
   "metadata": {},
   "source": [
    "# Section 3: Data Prepare"
   ]
  },
  {
   "cell_type": "markdown",
   "id": "3027fd4d",
   "metadata": {},
   "source": [
    "## Data Cleaning\n",
    "\n",
    "We clean and prepare the data as we did in the previous notebook"
   ]
  },
  {
   "cell_type": "code",
   "execution_count": 5,
   "id": "4b95f441",
   "metadata": {},
   "outputs": [],
   "source": [
    "def clean_df_listings(df):\n",
    "    \"\"\"\n",
    "    Preprocess listings dataframe\n",
    "    Input:\n",
    "        df: Listings dataframe\n",
    "    Output:\n",
    "        df: Cleaned listings dataframe\n",
    "    \"\"\"\n",
    "    \n",
    "    # Remove columns with all missing values\n",
    "    df = df.dropna(how=\"all\", axis=1)\n",
    "\n",
    "    # Fix review columns\n",
    "    review_scores_cols = [x for x in df.columns if \"review_scores\" in x]\n",
    "    # Remove all rows with invalid reviews\n",
    "    df = df.dropna(how=\"all\", subset=review_scores_cols)\n",
    "    # Remove rows with no number of reviews\n",
    "    df = df.dropna(how=\"any\", subset=[\"number_of_reviews\"])\n",
    "    # Fill missing reviews with 0\n",
    "    df[review_scores_cols] = df[review_scores_cols].fillna(0)\n",
    "    # Make all review scores out of 10\n",
    "    df[\"review_scores_rating\"] = df[\"review_scores_rating\"].apply(lambda x: x/10)\n",
    "    \n",
    "    # Fix rate columns\n",
    "    rate_col_list = [\"host_response_rate\", \"host_acceptance_rate\"]\n",
    "    for col in rate_col_list:\n",
    "        df[col] = df[col].apply(lambda x: float(str(x).replace(\"%\", \"\"))/100).fillna(0)\n",
    "    # Fix price columns\n",
    "    price_col_list = [\"price\",\n",
    "                     \"weekly_price\",\n",
    "                     \"monthly_price\",\n",
    "                     \"security_deposit\",\n",
    "                     \"cleaning_fee\",\n",
    "                     \"extra_people\"]\n",
    "    for col in price_col_list:\n",
    "        df[col] = df[col].apply(lambda x: float(str(x).replace(\"$\", \"\").replace(\",\", \"\"))).fillna(0)\n",
    "    # Fix bool columns\n",
    "    bool_col_list = [\"host_is_superhost\", \n",
    "                     \"host_has_profile_pic\", \n",
    "                     \"host_identity_verified\", \n",
    "                     \"require_guest_profile_picture\",\n",
    "                     \"require_guest_phone_verification\",\n",
    "                     \"instant_bookable\",\n",
    "                     \"is_location_exact\"]\n",
    "    for col in bool_col_list:\n",
    "        df[col] = df[col].apply(lambda x: x == \"t\")\n",
    "    # Get amenities count\n",
    "    df[\"num_amenities\"] = df[\"amenities\"].apply(lambda x: len(x.split(\",\")))\n",
    "    \n",
    "    # Remove columns with redundant data\n",
    "    for col in df.columns:\n",
    "        if len((df[col]).unique())==1:\n",
    "            df = df.drop(col, axis=1)    \n",
    "    \n",
    "    return df"
   ]
  },
  {
   "cell_type": "code",
   "execution_count": 6,
   "id": "5abe0abc",
   "metadata": {},
   "outputs": [],
   "source": [
    "# Clean the data\n",
    "df_listings = clean_df_listings(df_listings)"
   ]
  },
  {
   "cell_type": "markdown",
   "id": "f95cdf4c",
   "metadata": {},
   "source": [
    "## Calculate aggregate score"
   ]
  },
  {
   "cell_type": "code",
   "execution_count": 7,
   "id": "0c677319",
   "metadata": {},
   "outputs": [],
   "source": [
    "def aggregate_review_score(x):\n",
    "    \"\"\"\n",
    "    Aggregate the review score for listings\n",
    "    Input:\n",
    "        x: One row from dataframe\n",
    "    Output:\n",
    "        out: Aggregated review score\n",
    "    \"\"\"\n",
    "    score = x[\"review_scores_rating\"] + \\\n",
    "            x[\"review_scores_accuracy\"] + \\\n",
    "            x[\"review_scores_cleanliness\"] + \\\n",
    "            x[\"review_scores_checkin\"] + \\\n",
    "            x[\"review_scores_communication\"] + \\\n",
    "            x[\"review_scores_location\"] + \\\n",
    "            x[\"review_scores_value\"]\n",
    "    score = (score/7)\n",
    "    \n",
    "    return score"
   ]
  },
  {
   "cell_type": "code",
   "execution_count": 8,
   "id": "0ac36af6",
   "metadata": {},
   "outputs": [],
   "source": [
    "# Calculate the aggregate review score\n",
    "df_listings[\"aggregate_score\"] = [aggregate_review_score(x) for _, x in df_listings.iterrows()]"
   ]
  },
  {
   "cell_type": "markdown",
   "id": "233fb368",
   "metadata": {},
   "source": [
    "## Move each amenity into its own individual column "
   ]
  },
  {
   "cell_type": "code",
   "execution_count": 9,
   "id": "46f38c79",
   "metadata": {
    "scrolled": false
   },
   "outputs": [
    {
     "data": {
      "text/html": [
       "<div>\n",
       "<style scoped>\n",
       "    .dataframe tbody tr th:only-of-type {\n",
       "        vertical-align: middle;\n",
       "    }\n",
       "\n",
       "    .dataframe tbody tr th {\n",
       "        vertical-align: top;\n",
       "    }\n",
       "\n",
       "    .dataframe thead th {\n",
       "        text-align: right;\n",
       "    }\n",
       "</style>\n",
       "<table border=\"1\" class=\"dataframe\">\n",
       "  <thead>\n",
       "    <tr style=\"text-align: right;\">\n",
       "      <th></th>\n",
       "      <th>TV</th>\n",
       "      <th>Cable TV</th>\n",
       "      <th>Internet</th>\n",
       "      <th>Wireless Internet</th>\n",
       "      <th>Air Conditioning</th>\n",
       "      <th>Kitchen</th>\n",
       "      <th>Heating</th>\n",
       "      <th>Family/Kid Friendly</th>\n",
       "      <th>Washer</th>\n",
       "      <th>Dryer</th>\n",
       "      <th>...</th>\n",
       "      <th>Laptop Friendly Workspace</th>\n",
       "      <th>Suitable for Events</th>\n",
       "      <th>Elevator in Building</th>\n",
       "      <th>Wheelchair Accessible</th>\n",
       "      <th>Gym</th>\n",
       "      <th>Lock on Bedroom Door</th>\n",
       "      <th>Pool</th>\n",
       "      <th>Other pet(s)</th>\n",
       "      <th>Smoking Allowed</th>\n",
       "      <th>Doorman</th>\n",
       "    </tr>\n",
       "  </thead>\n",
       "  <tbody>\n",
       "    <tr>\n",
       "      <th>0</th>\n",
       "      <td>True</td>\n",
       "      <td>True</td>\n",
       "      <td>True</td>\n",
       "      <td>True</td>\n",
       "      <td>True</td>\n",
       "      <td>True</td>\n",
       "      <td>True</td>\n",
       "      <td>True</td>\n",
       "      <td>True</td>\n",
       "      <td>True</td>\n",
       "      <td>...</td>\n",
       "      <td>False</td>\n",
       "      <td>False</td>\n",
       "      <td>False</td>\n",
       "      <td>False</td>\n",
       "      <td>False</td>\n",
       "      <td>False</td>\n",
       "      <td>False</td>\n",
       "      <td>False</td>\n",
       "      <td>False</td>\n",
       "      <td>False</td>\n",
       "    </tr>\n",
       "    <tr>\n",
       "      <th>1</th>\n",
       "      <td>True</td>\n",
       "      <td>False</td>\n",
       "      <td>True</td>\n",
       "      <td>True</td>\n",
       "      <td>False</td>\n",
       "      <td>True</td>\n",
       "      <td>True</td>\n",
       "      <td>True</td>\n",
       "      <td>True</td>\n",
       "      <td>True</td>\n",
       "      <td>...</td>\n",
       "      <td>False</td>\n",
       "      <td>False</td>\n",
       "      <td>False</td>\n",
       "      <td>False</td>\n",
       "      <td>False</td>\n",
       "      <td>False</td>\n",
       "      <td>False</td>\n",
       "      <td>False</td>\n",
       "      <td>False</td>\n",
       "      <td>False</td>\n",
       "    </tr>\n",
       "    <tr>\n",
       "      <th>2</th>\n",
       "      <td>True</td>\n",
       "      <td>True</td>\n",
       "      <td>True</td>\n",
       "      <td>True</td>\n",
       "      <td>True</td>\n",
       "      <td>True</td>\n",
       "      <td>True</td>\n",
       "      <td>True</td>\n",
       "      <td>True</td>\n",
       "      <td>True</td>\n",
       "      <td>...</td>\n",
       "      <td>False</td>\n",
       "      <td>False</td>\n",
       "      <td>False</td>\n",
       "      <td>False</td>\n",
       "      <td>False</td>\n",
       "      <td>False</td>\n",
       "      <td>False</td>\n",
       "      <td>False</td>\n",
       "      <td>False</td>\n",
       "      <td>False</td>\n",
       "    </tr>\n",
       "    <tr>\n",
       "      <th>4</th>\n",
       "      <td>True</td>\n",
       "      <td>True</td>\n",
       "      <td>True</td>\n",
       "      <td>True</td>\n",
       "      <td>False</td>\n",
       "      <td>True</td>\n",
       "      <td>True</td>\n",
       "      <td>True</td>\n",
       "      <td>False</td>\n",
       "      <td>False</td>\n",
       "      <td>...</td>\n",
       "      <td>False</td>\n",
       "      <td>False</td>\n",
       "      <td>False</td>\n",
       "      <td>False</td>\n",
       "      <td>False</td>\n",
       "      <td>False</td>\n",
       "      <td>False</td>\n",
       "      <td>False</td>\n",
       "      <td>False</td>\n",
       "      <td>False</td>\n",
       "    </tr>\n",
       "    <tr>\n",
       "      <th>5</th>\n",
       "      <td>False</td>\n",
       "      <td>False</td>\n",
       "      <td>False</td>\n",
       "      <td>True</td>\n",
       "      <td>False</td>\n",
       "      <td>False</td>\n",
       "      <td>True</td>\n",
       "      <td>False</td>\n",
       "      <td>False</td>\n",
       "      <td>False</td>\n",
       "      <td>...</td>\n",
       "      <td>False</td>\n",
       "      <td>False</td>\n",
       "      <td>False</td>\n",
       "      <td>False</td>\n",
       "      <td>False</td>\n",
       "      <td>False</td>\n",
       "      <td>False</td>\n",
       "      <td>False</td>\n",
       "      <td>False</td>\n",
       "      <td>False</td>\n",
       "    </tr>\n",
       "  </tbody>\n",
       "</table>\n",
       "<p>5 rows × 40 columns</p>\n",
       "</div>"
      ],
      "text/plain": [
       "      TV  Cable TV  Internet  Wireless Internet  Air Conditioning  Kitchen  \\\n",
       "0   True      True      True               True              True     True   \n",
       "1   True     False      True               True             False     True   \n",
       "2   True      True      True               True              True     True   \n",
       "4   True      True      True               True             False     True   \n",
       "5  False     False     False               True             False    False   \n",
       "\n",
       "   Heating  Family/Kid Friendly  Washer  Dryer  ...  \\\n",
       "0     True                 True    True   True  ...   \n",
       "1     True                 True    True   True  ...   \n",
       "2     True                 True    True   True  ...   \n",
       "4     True                 True   False  False  ...   \n",
       "5     True                False   False  False  ...   \n",
       "\n",
       "   Laptop Friendly Workspace  Suitable for Events  Elevator in Building  \\\n",
       "0                      False                False                 False   \n",
       "1                      False                False                 False   \n",
       "2                      False                False                 False   \n",
       "4                      False                False                 False   \n",
       "5                      False                False                 False   \n",
       "\n",
       "   Wheelchair Accessible    Gym  Lock on Bedroom Door   Pool  Other pet(s)  \\\n",
       "0                  False  False                 False  False         False   \n",
       "1                  False  False                 False  False         False   \n",
       "2                  False  False                 False  False         False   \n",
       "4                  False  False                 False  False         False   \n",
       "5                  False  False                 False  False         False   \n",
       "\n",
       "   Smoking Allowed  Doorman  \n",
       "0            False    False  \n",
       "1            False    False  \n",
       "2            False    False  \n",
       "4            False    False  \n",
       "5            False    False  \n",
       "\n",
       "[5 rows x 40 columns]"
      ]
     },
     "execution_count": 9,
     "metadata": {},
     "output_type": "execute_result"
    }
   ],
   "source": [
    "# Get count for each amenity listed and move them into their own columns\n",
    "amenities_dict = {}\n",
    "for _, row in df_listings.iterrows():\n",
    "    amenities = row[\"amenities\"].replace(\"{\", \"\").replace(\"}\", \"\").replace(\"\\\"\", \"\")\n",
    "    amenities = amenities.replace(\"Washer / Dryer\", \"Washer,Dryer\")\n",
    "    if \",\" in amenities:\n",
    "        amenities = amenities.split(\",\")\n",
    "    else:\n",
    "        amenities = [amenities]\n",
    "    for a in amenities:\n",
    "        if a != \"\":\n",
    "            if a not in amenities_dict:\n",
    "                amenities_dict[a] = {}\n",
    "            if row[\"id\"] not in amenities_dict[a]:\n",
    "                amenities_dict[a][row[\"id\"]] = True\n",
    "for k in amenities_dict:\n",
    "    df_listings[k] = df_listings[\"id\"].map(amenities_dict[k]).fillna(False)       \n",
    "df_listings[amenities_dict.keys()].head()    "
   ]
  },
  {
   "cell_type": "markdown",
   "id": "ab5d8dd3",
   "metadata": {},
   "source": [
    "## Move each host verification into its own individual column "
   ]
  },
  {
   "cell_type": "code",
   "execution_count": 10,
   "id": "f0006bb2",
   "metadata": {},
   "outputs": [
    {
     "data": {
      "text/html": [
       "<div>\n",
       "<style scoped>\n",
       "    .dataframe tbody tr th:only-of-type {\n",
       "        vertical-align: middle;\n",
       "    }\n",
       "\n",
       "    .dataframe tbody tr th {\n",
       "        vertical-align: top;\n",
       "    }\n",
       "\n",
       "    .dataframe thead th {\n",
       "        text-align: right;\n",
       "    }\n",
       "</style>\n",
       "<table border=\"1\" class=\"dataframe\">\n",
       "  <thead>\n",
       "    <tr style=\"text-align: right;\">\n",
       "      <th></th>\n",
       "      <th>email</th>\n",
       "      <th>phone</th>\n",
       "      <th>reviews</th>\n",
       "      <th>kba</th>\n",
       "      <th>facebook</th>\n",
       "      <th>linkedin</th>\n",
       "      <th>jumio</th>\n",
       "      <th>google</th>\n",
       "      <th>phone</th>\n",
       "      <th>manual_offline</th>\n",
       "      <th>manual_online</th>\n",
       "      <th>sent_id</th>\n",
       "      <th>amex</th>\n",
       "      <th>photographer</th>\n",
       "      <th>weibo</th>\n",
       "      <th>reviews</th>\n",
       "    </tr>\n",
       "  </thead>\n",
       "  <tbody>\n",
       "    <tr>\n",
       "      <th>0</th>\n",
       "      <td>True</td>\n",
       "      <td>True</td>\n",
       "      <td>True</td>\n",
       "      <td>True</td>\n",
       "      <td>False</td>\n",
       "      <td>False</td>\n",
       "      <td>False</td>\n",
       "      <td>False</td>\n",
       "      <td>False</td>\n",
       "      <td>False</td>\n",
       "      <td>False</td>\n",
       "      <td>False</td>\n",
       "      <td>False</td>\n",
       "      <td>False</td>\n",
       "      <td>False</td>\n",
       "      <td>False</td>\n",
       "    </tr>\n",
       "    <tr>\n",
       "      <th>1</th>\n",
       "      <td>True</td>\n",
       "      <td>True</td>\n",
       "      <td>True</td>\n",
       "      <td>False</td>\n",
       "      <td>True</td>\n",
       "      <td>True</td>\n",
       "      <td>True</td>\n",
       "      <td>False</td>\n",
       "      <td>False</td>\n",
       "      <td>False</td>\n",
       "      <td>False</td>\n",
       "      <td>False</td>\n",
       "      <td>False</td>\n",
       "      <td>False</td>\n",
       "      <td>False</td>\n",
       "      <td>False</td>\n",
       "    </tr>\n",
       "    <tr>\n",
       "      <th>2</th>\n",
       "      <td>True</td>\n",
       "      <td>True</td>\n",
       "      <td>True</td>\n",
       "      <td>False</td>\n",
       "      <td>False</td>\n",
       "      <td>False</td>\n",
       "      <td>True</td>\n",
       "      <td>True</td>\n",
       "      <td>False</td>\n",
       "      <td>False</td>\n",
       "      <td>False</td>\n",
       "      <td>False</td>\n",
       "      <td>False</td>\n",
       "      <td>False</td>\n",
       "      <td>False</td>\n",
       "      <td>False</td>\n",
       "    </tr>\n",
       "    <tr>\n",
       "      <th>4</th>\n",
       "      <td>True</td>\n",
       "      <td>True</td>\n",
       "      <td>True</td>\n",
       "      <td>True</td>\n",
       "      <td>True</td>\n",
       "      <td>False</td>\n",
       "      <td>False</td>\n",
       "      <td>False</td>\n",
       "      <td>False</td>\n",
       "      <td>False</td>\n",
       "      <td>False</td>\n",
       "      <td>False</td>\n",
       "      <td>False</td>\n",
       "      <td>False</td>\n",
       "      <td>False</td>\n",
       "      <td>False</td>\n",
       "    </tr>\n",
       "    <tr>\n",
       "      <th>5</th>\n",
       "      <td>True</td>\n",
       "      <td>True</td>\n",
       "      <td>True</td>\n",
       "      <td>True</td>\n",
       "      <td>True</td>\n",
       "      <td>False</td>\n",
       "      <td>False</td>\n",
       "      <td>False</td>\n",
       "      <td>False</td>\n",
       "      <td>False</td>\n",
       "      <td>False</td>\n",
       "      <td>False</td>\n",
       "      <td>False</td>\n",
       "      <td>False</td>\n",
       "      <td>False</td>\n",
       "      <td>False</td>\n",
       "    </tr>\n",
       "  </tbody>\n",
       "</table>\n",
       "</div>"
      ],
      "text/plain": [
       "   email   phone   reviews    kba   facebook   linkedin   jumio   google  \\\n",
       "0   True    True      True   True      False      False   False    False   \n",
       "1   True    True      True  False       True       True    True    False   \n",
       "2   True    True      True  False      False      False    True     True   \n",
       "4   True    True      True   True       True      False   False    False   \n",
       "5   True    True      True   True       True      False   False    False   \n",
       "\n",
       "   phone   manual_offline   manual_online   sent_id   amex   photographer  \\\n",
       "0  False            False           False     False  False          False   \n",
       "1  False            False           False     False  False          False   \n",
       "2  False            False           False     False  False          False   \n",
       "4  False            False           False     False  False          False   \n",
       "5  False            False           False     False  False          False   \n",
       "\n",
       "    weibo  reviews  \n",
       "0   False    False  \n",
       "1   False    False  \n",
       "2   False    False  \n",
       "4   False    False  \n",
       "5   False    False  "
      ]
     },
     "execution_count": 10,
     "metadata": {},
     "output_type": "execute_result"
    }
   ],
   "source": [
    "# Get count for each host verification listed and move them into their own columns\n",
    "host_verification_dict = {}\n",
    "for _, row in df_listings.iterrows():\n",
    "    verifications = row[\"host_verifications\"].replace(\"[\", \"\").replace(\"]\", \"\").replace('\\'', \"\")\n",
    "    if \",\" in verifications:\n",
    "        verifications = verifications.split(\",\")\n",
    "    else:\n",
    "        verifications = [verifications]\n",
    "    for v in verifications:\n",
    "        if x != \"\":\n",
    "            if v not in host_verification_dict:\n",
    "                host_verification_dict[v] = {}\n",
    "            if row[\"id\"] not in host_verification_dict[v]:\n",
    "                host_verification_dict[v][row[\"id\"]] = True\n",
    "for k in host_verification_dict:\n",
    "    df_listings[k] = df_listings[\"id\"].map(host_verification_dict[k]).fillna(False)                \n",
    "df_listings[host_verification_dict.keys()].head()    "
   ]
  },
  {
   "cell_type": "markdown",
   "id": "54a76222",
   "metadata": {},
   "source": [
    "## Let's have a look at the columns and see what we need to drop"
   ]
  },
  {
   "cell_type": "code",
   "execution_count": 11,
   "id": "c8b05855",
   "metadata": {},
   "outputs": [
    {
     "data": {
      "text/plain": [
       "Index(['id', 'host_id', 'host_response_rate', 'host_acceptance_rate',\n",
       "       'host_listings_count', 'host_total_listings_count', 'latitude',\n",
       "       'longitude', 'accommodates', 'bathrooms', 'bedrooms', 'beds',\n",
       "       'square_feet', 'price', 'weekly_price', 'monthly_price',\n",
       "       'security_deposit', 'cleaning_fee', 'guests_included', 'extra_people',\n",
       "       'minimum_nights', 'maximum_nights', 'availability_30',\n",
       "       'availability_60', 'availability_90', 'availability_365',\n",
       "       'number_of_reviews', 'review_scores_rating', 'review_scores_accuracy',\n",
       "       'review_scores_cleanliness', 'review_scores_checkin',\n",
       "       'review_scores_communication', 'review_scores_location',\n",
       "       'review_scores_value', 'calculated_host_listings_count',\n",
       "       'reviews_per_month', 'num_amenities', 'aggregate_score'],\n",
       "      dtype='object')"
      ]
     },
     "execution_count": 11,
     "metadata": {},
     "output_type": "execute_result"
    }
   ],
   "source": [
    "# Numeric columns\n",
    "df_listings.select_dtypes(include=np.number).columns"
   ]
  },
  {
   "cell_type": "code",
   "execution_count": 12,
   "id": "723e94a2",
   "metadata": {},
   "outputs": [
    {
     "data": {
      "text/plain": [
       "Index(['host_is_superhost', 'host_has_profile_pic', 'host_identity_verified',\n",
       "       'is_location_exact', 'instant_bookable',\n",
       "       'require_guest_profile_picture', 'require_guest_phone_verification',\n",
       "       'TV', 'Cable TV', 'Internet', 'Wireless Internet', 'Air Conditioning',\n",
       "       'Kitchen', 'Heating', 'Family/Kid Friendly', 'Washer', 'Dryer',\n",
       "       'Free Parking on Premises', 'Buzzer/Wireless Intercom',\n",
       "       'Smoke Detector', 'Carbon Monoxide Detector', 'First Aid Kit',\n",
       "       'Safety Card', 'Fire Extinguisher', 'Essentials', 'Pets Allowed',\n",
       "       'Pets live on this property', 'Dog(s)', 'Cat(s)', 'Hot Tub',\n",
       "       'Indoor Fireplace', 'Shampoo', 'Breakfast', '24-Hour Check-in',\n",
       "       'Hangers', 'Hair Dryer', 'Iron', 'Laptop Friendly Workspace',\n",
       "       'Suitable for Events', 'Elevator in Building', 'Wheelchair Accessible',\n",
       "       'Gym', 'Lock on Bedroom Door', 'Pool', 'Other pet(s)',\n",
       "       'Smoking Allowed', 'Doorman', 'email', ' phone', ' reviews', ' kba',\n",
       "       ' facebook', ' linkedin', ' jumio', ' google', 'phone',\n",
       "       ' manual_offline', ' manual_online', ' sent_id', ' amex',\n",
       "       ' photographer', ' weibo', 'reviews'],\n",
       "      dtype='object')"
      ]
     },
     "execution_count": 12,
     "metadata": {},
     "output_type": "execute_result"
    }
   ],
   "source": [
    "# Bool columns\n",
    "df_listings.select_dtypes(include=\"bool\").columns"
   ]
  },
  {
   "cell_type": "code",
   "execution_count": 13,
   "id": "73b2c400",
   "metadata": {},
   "outputs": [
    {
     "data": {
      "text/plain": [
       "Index(['listing_url', 'name', 'summary', 'space', 'description',\n",
       "       'neighborhood_overview', 'notes', 'transit', 'thumbnail_url',\n",
       "       'medium_url', 'picture_url', 'xl_picture_url', 'host_url', 'host_name',\n",
       "       'host_since', 'host_location', 'host_about', 'host_response_time',\n",
       "       'host_thumbnail_url', 'host_picture_url', 'host_neighbourhood',\n",
       "       'host_verifications', 'street', 'neighbourhood',\n",
       "       'neighbourhood_cleansed', 'neighbourhood_group_cleansed', 'city',\n",
       "       'zipcode', 'smart_location', 'property_type', 'room_type', 'bed_type',\n",
       "       'amenities', 'calendar_updated', 'first_review', 'last_review',\n",
       "       'cancellation_policy'],\n",
       "      dtype='object')"
      ]
     },
     "execution_count": 13,
     "metadata": {},
     "output_type": "execute_result"
    }
   ],
   "source": [
    "# Categorical columns\n",
    "df_listings.select_dtypes(include=\"object\").columns"
   ]
  },
  {
   "cell_type": "markdown",
   "id": "cbd87189",
   "metadata": {},
   "source": [
    "## Ok, now let's prepare the data for the model\n",
    "* Separate response variable\n",
    "* Remove unnescessary columns\n",
    "* Handle categorical variables"
   ]
  },
  {
   "cell_type": "code",
   "execution_count": 14,
   "id": "9e0bd318",
   "metadata": {},
   "outputs": [],
   "source": [
    "def prepare_for_model_df_listings(df, drop_cols):\n",
    "    \"\"\"\n",
    "    Preprocess listings dataframe\n",
    "    Input:\n",
    "        df: Listings dataframe\n",
    "    Output:\n",
    "        X: Dataframe with variables for training the model\n",
    "        y: Dataframe with response output\n",
    "    \"\"\"\n",
    "    \n",
    "    y = df[\"aggregate_score\"].copy()\n",
    "    df = df.drop([\"aggregate_score\"], axis=1).copy()\n",
    "        \n",
    "    df = df.drop(drop_cols, axis=1).copy()\n",
    "\n",
    "    # Fill numeric columns with the mean\n",
    "    num_vars = df.select_dtypes(include=np.number).columns\n",
    "    for col in num_vars:\n",
    "        df[col].fillna((df[col].mean()), inplace=True)    \n",
    "    \n",
    "    # Dummy the categorical variables\n",
    "    cat_vars = df.select_dtypes(include=['object']).copy().columns\n",
    "    for var in  cat_vars:\n",
    "        # for each cat add dummy var, drop original column\n",
    "        df = pd.concat([df.drop(var, axis=1), pd.get_dummies(df[var], prefix=var, prefix_sep='_', drop_first=True)], axis=1)\n",
    "    \n",
    "    X = df\n",
    "    return X,y"
   ]
  },
  {
   "cell_type": "markdown",
   "id": "d6afe3e8",
   "metadata": {},
   "source": [
    "# Section 4: Data Modelling\n",
    "\n",
    "We will use a simple linear regression to model the data"
   ]
  },
  {
   "cell_type": "code",
   "execution_count": 15,
   "id": "11fd8b51",
   "metadata": {},
   "outputs": [],
   "source": [
    "def run_linear_regression(X, y, test_size=.3, random_state=42):\n",
    "    \"\"\"\n",
    "    Run linear regression\n",
    "    Input:\n",
    "        X: input variables\n",
    "        y: response variables\n",
    "    Output:\n",
    "        train_score: r2 score for training data\n",
    "        test_score: r2 score for test data\n",
    "    \"\"\"\n",
    "    #Split into train and test\n",
    "    X_train, X_test, y_train, y_test = train_test_split(X, y, test_size=test_size, random_state=random_state)\n",
    "\n",
    "    lm_model = LinearRegression(normalize=True) # Instantiate\n",
    "    lm_model.fit(X_train, y_train) #Fit\n",
    "\n",
    "    #Predict\n",
    "    y_test_preds = lm_model.predict(X_test)\n",
    "    y_train_preds = lm_model.predict(X_train)\n",
    "\n",
    "    #Score \n",
    "    test_score = r2_score(y_test, y_test_preds)\n",
    "    train_score = r2_score(y_train, y_train_preds)\n",
    "    return train_score, test_score"
   ]
  },
  {
   "cell_type": "markdown",
   "id": "5b9a5b67",
   "metadata": {},
   "source": [
    "## Initial trial run"
   ]
  },
  {
   "cell_type": "code",
   "execution_count": 16,
   "id": "c37cff1a",
   "metadata": {},
   "outputs": [
    {
     "name": "stdout",
     "output_type": "stream",
     "text": [
      "The rsquared on the training data was 0.8953158236361393.\n",
      "The rsquared on the test data was -4.3601558577563916e+27.\n",
      "3171 data points with 3366 features\n"
     ]
    }
   ],
   "source": [
    "drop_cols_numeric = [\"id\", \"host_id\", \"square_feet\"] + [x for x in df_listings.select_dtypes(include=np.number).columns if \"review\" in x]\n",
    "drop_cols_object = [\"name\", \"summary\", \"space\", \"description\", \"neighborhood_overview\", \"notes\",\n",
    "                   \"transit\", \"host_name\", \"host_since\", \"host_about\", \"street\",\n",
    "                   \"first_review\", \"last_review\"] + [x for x in df_listings.select_dtypes(include=\"object\").columns if \"url\" in x]\n",
    "drop_cols = drop_cols_numeric + drop_cols_object\n",
    "X, y = prepare_for_model_df_listings(df_listings, drop_cols)\n",
    "train_score, test_score = run_linear_regression(X,y)\n",
    "print(\"The rsquared on the training data was {}.\\nThe rsquared on the test data was {}.\\n{} data points with {} features\".format(train_score, test_score, X.shape[0], X.shape[1]))"
   ]
  },
  {
   "cell_type": "markdown",
   "id": "c404804a",
   "metadata": {},
   "source": [
    "## Let's try a different set of features (columns) "
   ]
  },
  {
   "cell_type": "code",
   "execution_count": 17,
   "id": "91484381",
   "metadata": {},
   "outputs": [],
   "source": [
    "drop_col_lists = [\n",
    "    drop_cols,\n",
    "    drop_cols + list(host_verification_dict.keys()),\n",
    "    drop_cols + list(amenities_dict.keys()),\n",
    "    drop_cols + list(amenities_dict.keys()) + list(host_verification_dict.keys()),\n",
    "    drop_cols + list(df_listings.select_dtypes(include=\"object\").columns),\n",
    "    drop_cols + list(df_listings.select_dtypes(include=\"object\").columns) + list(host_verification_dict.keys()),\n",
    "    drop_cols + list(df_listings.select_dtypes(include=\"object\").columns) + list(amenities_dict.keys()),\n",
    "    drop_cols + list(df_listings.select_dtypes(include=\"object\").columns) + list(amenities_dict.keys()) + list(host_verification_dict.keys()),\n",
    "    drop_cols + list(df_listings.select_dtypes(include=\"bool\").columns) + list(df_listings.select_dtypes(include=\"object\").columns),\n",
    "]\n",
    "\n",
    "train_score_list = []\n",
    "test_score_list = []\n",
    "num_features = []\n",
    "best_X = X\n",
    "best_test_score = -999\n",
    "corresponding_train_score = 0\n",
    "for drop_list in drop_col_lists:\n",
    "    X, y = prepare_for_model_df_listings(df_listings, drop_list)\n",
    "    train_score, test_score = run_linear_regression(X,y)\n",
    "    train_score_list.append(train_score)\n",
    "    test_score_list.append(test_score)\n",
    "    if test_score > best_test_score:\n",
    "        corresponding_train_score = train_score\n",
    "        best_test_score = test_score\n",
    "        best_X = X\n",
    "    num_features.append(X.shape[1])"
   ]
  },
  {
   "cell_type": "code",
   "execution_count": 18,
   "id": "96168c93",
   "metadata": {},
   "outputs": [
    {
     "data": {
      "image/png": "[encoded data removed]",
      "text/plain": [
       "<Figure size 576x576 with 1 Axes>"
      ]
     },
     "metadata": {
      "needs_background": "light"
     },
     "output_type": "display_data"
    }
   ],
   "source": [
    "fig = plt.figure();\n",
    "plt.plot(num_features, train_score_list, label=\"train\");\n",
    "plt.plot(num_features, test_score_list, label=\"test\");\n",
    "plt.ylabel(\"R-squared\");\n",
    "plt.xlabel(\"Num Features\");\n",
    "plt.legend();"
   ]
  },
  {
   "cell_type": "code",
   "execution_count": 19,
   "id": "4c43e20f",
   "metadata": {},
   "outputs": [
    {
     "data": {
      "image/png": "[encoded data removed]",
      "text/plain": [
       "<Figure size 576x576 with 1 Axes>"
      ]
     },
     "metadata": {
      "needs_background": "light"
     },
     "output_type": "display_data"
    }
   ],
   "source": [
    "fig = plt.figure();\n",
    "plt.plot(num_features, train_score_list, label=\"train\");\n",
    "plt.ylabel(\"R-squared\");\n",
    "plt.xlabel(\"Num Features\");\n",
    "plt.legend();"
   ]
  },
  {
   "cell_type": "code",
   "execution_count": 20,
   "id": "220a42cc",
   "metadata": {},
   "outputs": [
    {
     "name": "stdout",
     "output_type": "stream",
     "text": [
      "Best number of features 32 with best test score -0.43090890859659736 with corresponding train score 0.14201240739312337\n"
     ]
    }
   ],
   "source": [
    "print(\"Best number of features {} with best test score {} with corresponding train score {}\".format(best_X.shape[1], best_test_score, corresponding_train_score))"
   ]
  },
  {
   "cell_type": "markdown",
   "id": "c16401d0",
   "metadata": {},
   "source": [
    "### We see a lot of overfitting of the data as number of features increases. However, with a lower number of features our model has a low training score and a negative test score. "
   ]
  },
  {
   "cell_type": "code",
   "execution_count": 21,
   "id": "29ae012e",
   "metadata": {},
   "outputs": [
    {
     "data": {
      "text/plain": [
       "Index(['host_response_rate', 'host_acceptance_rate', 'host_is_superhost',\n",
       "       'host_listings_count', 'host_total_listings_count',\n",
       "       'host_has_profile_pic', 'host_identity_verified', 'latitude',\n",
       "       'longitude', 'is_location_exact', 'accommodates', 'bathrooms',\n",
       "       'bedrooms', 'beds', 'price', 'weekly_price', 'monthly_price',\n",
       "       'security_deposit', 'cleaning_fee', 'guests_included', 'extra_people',\n",
       "       'minimum_nights', 'maximum_nights', 'availability_30',\n",
       "       'availability_60', 'availability_90', 'availability_365',\n",
       "       'instant_bookable', 'require_guest_profile_picture',\n",
       "       'require_guest_phone_verification', 'calculated_host_listings_count',\n",
       "       'num_amenities'],\n",
       "      dtype='object')"
      ]
     },
     "execution_count": 21,
     "metadata": {},
     "output_type": "execute_result"
    }
   ],
   "source": [
    "# Take a look at the best features\n",
    "best_X.columns"
   ]
  },
  {
   "cell_type": "markdown",
   "id": "6d168cfb",
   "metadata": {},
   "source": [
    "# Conclusion\n",
    "\n",
    "The results from running linear regression are pretty bad. A lot more can be done to analyze the results. For future work we could try:\n",
    "* Take a better look at the data \n",
    "    * Deal with outliers\n",
    "    * More thorough cleaning\n",
    "* Find out which columns are best suited to use \n",
    "* Try different models and see the results\n",
    "* Increase number of data points"
   ]
  }
 ],
 "metadata": {
  "kernelspec": {
   "display_name": "Python 3",
   "language": "python",
   "name": "python3"
  },
  "language_info": {
   "codemirror_mode": {
    "name": "ipython",
    "version": 3
   },
   "file_extension": ".py",
   "mimetype": "text/x-python",
   "name": "python",
   "nbconvert_exporter": "python",
   "pygments_lexer": "ipython3",
   "version": "3.7.7"
  }
 },
 "nbformat": 4,
 "nbformat_minor": 5
}
