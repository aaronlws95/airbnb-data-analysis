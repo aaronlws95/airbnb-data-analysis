{
 "cells": [
  {
   "cell_type": "code",
   "execution_count": 1,
   "id": "cd45a159",
   "metadata": {},
   "outputs": [],
   "source": [
    "import numpy as np\n",
    "import pandas as pd\n",
    "import seaborn as sns\n",
    "import plotly.express as px\n",
    "from pathlib import Path\n",
    "from IPython.display import display\n",
    "from transformers import pipeline\n",
    "from tqdm.notebook import tqdm\n",
    "from sklearn.linear_model import LinearRegression\n",
    "from sklearn.model_selection import train_test_split\n",
    "from sklearn.metrics import r2_score, mean_squared_error\n",
    "pd.options.plotting.backend = \"plotly\"\n",
    "%matplotlib inline"
   ]
  },
  {
   "cell_type": "code",
   "execution_count": 2,
   "id": "72d4c78b",
   "metadata": {},
   "outputs": [],
   "source": [
    "data_folder_name = \"data/seattle\"\n",
    "csv_files = Path(data_folder_name).glob(\"*.csv\")\n",
    "csv_files = [x for x in csv_files]"
   ]
  },
  {
   "cell_type": "code",
   "execution_count": 4,
   "id": "bfc013a8",
   "metadata": {},
   "outputs": [],
   "source": [
    "dfs = {}\n",
    "for x in csv_files:\n",
    "    dfs[str(x.name).split(\".\")[0]] = pd.read_csv(x)"
   ]
  },
  {
   "cell_type": "code",
   "execution_count": 31,
   "id": "63875d87",
   "metadata": {},
   "outputs": [],
   "source": [
    "df_listings = dfs[\"listings\"].copy()"
   ]
  },
  {
   "cell_type": "code",
   "execution_count": 32,
   "id": "4b95f441",
   "metadata": {},
   "outputs": [],
   "source": [
    "def preprocess_df_listings(df):\n",
    "    \"\"\"\n",
    "    Preprocess listings dataframe\n",
    "    Input:\n",
    "        df: Listings dataframe\n",
    "    Output:\n",
    "        df: Cleaned listings dataframe\n",
    "    \"\"\"\n",
    "    \n",
    "    before_cols = df.shape[1]\n",
    "    # Remove columns with all missing values\n",
    "    df = df.dropna(how=\"all\", axis=1)\n",
    "    # Remove columns with redundant data\n",
    "    for col in df.columns:\n",
    "        if len((df[col]).unique())==1:\n",
    "            df = df.drop(col, axis=1)\n",
    "    after_cols = df.shape[1]\n",
    "\n",
    "    # Fix review columns\n",
    "    review_scores_cols = [x for x in df.columns if \"review_scores\" in x]\n",
    "    # Remove all rows with invalid reviews\n",
    "    df = df.dropna(how=\"all\", subset=review_scores_cols)\n",
    "    # Remove rows with no number of reviews\n",
    "    df = df.dropna(how=\"any\", subset=[\"number_of_reviews\"])\n",
    "    # Fill missing reviews with 0\n",
    "    df[review_scores_cols] = df[review_scores_cols].fillna(0)\n",
    "    # Make all review scores out of 10\n",
    "    df[\"review_scores_rating\"] = df[\"review_scores_rating\"].apply(lambda x: x/10)\n",
    "    \n",
    "    # Fix rate columns\n",
    "    rate_col_list = [\"host_response_rate\", \"host_acceptance_rate\"]\n",
    "    for col in rate_col_list:\n",
    "        df[col] = df[col].apply(lambda x: float(str(x).replace(\"%\", \"\"))/100).fillna(0)\n",
    "    # Fix price columns\n",
    "    price_col_list = [\"price\",\n",
    "                     \"weekly_price\",\n",
    "                     \"monthly_price\",\n",
    "                     \"security_deposit\",\n",
    "                     \"cleaning_fee\",\n",
    "                     \"extra_people\"]\n",
    "    for col in price_col_list:\n",
    "        df[col] = df[col].apply(lambda x: float(str(x).replace(\"$\", \"\").replace(\",\", \"\"))).fillna(0)\n",
    "    # Fix bool columns\n",
    "    bool_col_list = [\"host_is_superhost\", \n",
    "                     \"host_has_profile_pic\", \n",
    "                     \"host_identity_verified\", \n",
    "                     \"require_guest_profile_picture\",\n",
    "                     \"require_guest_phone_verification\",\n",
    "                     \"instant_bookable\"]\n",
    "    for col in bool_col_list:\n",
    "        df[col] = df[col].apply(lambda x: x == \"t\")\n",
    "    # Get amenities count\n",
    "    df[\"num_amenities\"] = df[\"amenities\"].apply(lambda x: len(x.split(\",\")))\n",
    "    \n",
    "    return df"
   ]
  },
  {
   "cell_type": "code",
   "execution_count": 33,
   "id": "5abe0abc",
   "metadata": {},
   "outputs": [],
   "source": [
    "df_listings = preprocess_df_listings(df_listings)"
   ]
  },
  {
   "cell_type": "code",
   "execution_count": 34,
   "id": "0c677319",
   "metadata": {},
   "outputs": [],
   "source": [
    "def aggregate_review_score(x):\n",
    "    \"\"\"\n",
    "    Aggregate the review score for listings\n",
    "    Input:\n",
    "        x: One row from dataframe\n",
    "    Output:\n",
    "        out: Aggregated review score\n",
    "    \"\"\"\n",
    "    score = x[\"review_scores_rating\"] + \\\n",
    "            x[\"review_scores_accuracy\"] + \\\n",
    "            x[\"review_scores_cleanliness\"] + \\\n",
    "            x[\"review_scores_checkin\"] + \\\n",
    "            x[\"review_scores_communication\"] + \\\n",
    "            x[\"review_scores_location\"] + \\\n",
    "            x[\"review_scores_value\"]\n",
    "    score = (score/7)\n",
    "    \n",
    "    return score"
   ]
  },
  {
   "cell_type": "code",
   "execution_count": 35,
   "id": "0ac36af6",
   "metadata": {},
   "outputs": [],
   "source": [
    "df_listings[\"aggregate_score\"] = [aggregate_review_score(x) for _, x in df_listings.iterrows()]"
   ]
  },
  {
   "cell_type": "code",
   "execution_count": 41,
   "id": "46f38c79",
   "metadata": {
    "scrolled": false
   },
   "outputs": [],
   "source": [
    "amenities_dict = {}\n",
    "# Get count for each amenity listed\n",
    "for _, row in df_listings.iterrows():\n",
    "    amenities = row[\"amenities\"].replace(\"{\", \"\").replace(\"}\", \"\").replace(\"\\\"\", \"\")\n",
    "    amenities = amenities.replace(\"Washer / Dryer\", \"Washer,Dryer\")\n",
    "    if \",\" in amenities:\n",
    "        amenities = amenities.split(\",\")\n",
    "    else:\n",
    "        amenities = [amenities]\n",
    "    for a in amenities:\n",
    "        if a != \"\":\n",
    "            if a not in amenities_dict:\n",
    "                amenities_dict[a] = {}\n",
    "            if row[\"id\"] not in amenities_dict[a]:\n",
    "                amenities_dict[a][row[\"id\"]] = True"
   ]
  },
  {
   "cell_type": "code",
   "execution_count": 42,
   "id": "f1360afb",
   "metadata": {},
   "outputs": [],
   "source": [
    "for k in amenities_dict:\n",
    "    df_listings[k] = df_listings[\"id\"].map(amenities_dict[k]).fillna(False)"
   ]
  },
  {
   "cell_type": "code",
   "execution_count": 47,
   "id": "c8b05855",
   "metadata": {},
   "outputs": [
    {
     "data": {
      "text/plain": [
       "Index(['id', 'host_id', 'host_response_rate', 'host_acceptance_rate',\n",
       "       'host_listings_count', 'host_total_listings_count', 'latitude',\n",
       "       'longitude', 'accommodates', 'bathrooms', 'bedrooms', 'beds',\n",
       "       'square_feet', 'price', 'weekly_price', 'monthly_price',\n",
       "       'security_deposit', 'cleaning_fee', 'guests_included', 'extra_people',\n",
       "       'minimum_nights', 'maximum_nights', 'availability_30',\n",
       "       'availability_60', 'availability_90', 'availability_365',\n",
       "       'number_of_reviews', 'review_scores_rating', 'review_scores_accuracy',\n",
       "       'review_scores_cleanliness', 'review_scores_checkin',\n",
       "       'review_scores_communication', 'review_scores_location',\n",
       "       'review_scores_value', 'calculated_host_listings_count',\n",
       "       'reviews_per_month', 'num_amenities', 'aggregate_score'],\n",
       "      dtype='object')"
      ]
     },
     "execution_count": 47,
     "metadata": {},
     "output_type": "execute_result"
    }
   ],
   "source": [
    "df_listings.select_dtypes(include=np.number).columns"
   ]
  },
  {
   "cell_type": "code",
   "execution_count": 48,
   "id": "73b2c400",
   "metadata": {},
   "outputs": [
    {
     "data": {
      "text/plain": [
       "Index(['listing_url', 'name', 'summary', 'space', 'description',\n",
       "       'neighborhood_overview', 'notes', 'transit', 'thumbnail_url',\n",
       "       'medium_url', 'picture_url', 'xl_picture_url', 'host_url', 'host_name',\n",
       "       'host_since', 'host_location', 'host_about', 'host_response_time',\n",
       "       'host_thumbnail_url', 'host_picture_url', 'host_neighbourhood',\n",
       "       'host_verifications', 'street', 'neighbourhood',\n",
       "       'neighbourhood_cleansed', 'neighbourhood_group_cleansed', 'city',\n",
       "       'state', 'zipcode', 'smart_location', 'is_location_exact',\n",
       "       'property_type', 'room_type', 'bed_type', 'amenities',\n",
       "       'calendar_updated', 'first_review', 'last_review',\n",
       "       'cancellation_policy'],\n",
       "      dtype='object')"
      ]
     },
     "execution_count": 48,
     "metadata": {},
     "output_type": "execute_result"
    }
   ],
   "source": [
    "df_listings.select_dtypes(include=\"object\").columns"
   ]
  },
  {
   "cell_type": "code",
   "execution_count": 49,
   "id": "723e94a2",
   "metadata": {},
   "outputs": [
    {
     "data": {
      "text/plain": [
       "Index([], dtype='object')"
      ]
     },
     "execution_count": 49,
     "metadata": {},
     "output_type": "execute_result"
    }
   ],
   "source": [
    "df_listings.select_dtypes(include=\"category\").columns"
   ]
  },
  {
   "cell_type": "code",
   "execution_count": null,
   "id": "9e0bd318",
   "metadata": {},
   "outputs": [],
   "source": []
  }
 ],
 "metadata": {
  "kernelspec": {
   "display_name": "Python 3",
   "language": "python",
   "name": "python3"
  },
  "language_info": {
   "codemirror_mode": {
    "name": "ipython",
    "version": 3
   },
   "file_extension": ".py",
   "mimetype": "text/x-python",
   "name": "python",
   "nbconvert_exporter": "python",
   "pygments_lexer": "ipython3",
   "version": "3.7.7"
  }
 },
 "nbformat": 4,
 "nbformat_minor": 5
}
