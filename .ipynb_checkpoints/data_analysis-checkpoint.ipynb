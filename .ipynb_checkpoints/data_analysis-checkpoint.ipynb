{
 "cells": [
  {
   "cell_type": "markdown",
   "id": "95d565b2",
   "metadata": {},
   "source": [
    "## Import libraries and load data"
   ]
  },
  {
   "cell_type": "code",
   "execution_count": 1,
   "id": "8b0709e3",
   "metadata": {},
   "outputs": [
    {
     "name": "stderr",
     "output_type": "stream",
     "text": [
      "/home/aaron/anaconda3/envs/casiopy/lib/python3.7/site-packages/IPython/core/interactiveshell.py:3170: DtypeWarning: Columns (0,3,5,19,20,24,25,26,27,28,36,37,38,39,48) have mixed types.Specify dtype option on import or set low_memory=False.\n",
      "  interactivity=interactivity, compiler=compiler, result=result)\n"
     ]
    }
   ],
   "source": [
    "import numpy as np\n",
    "import pandas as pd\n",
    "import seaborn as sns\n",
    "import matplotlib.pyplot as plt\n",
    "from pathlib import Path\n",
    "from IPython.display import Markdown as md\n",
    "pd.options.plotting.backend = \"plotly\"\n",
    "%matplotlib inline\n",
    "\n",
    "raw_df = pd.read_csv(\"data/en.openfoodfacts.org.products.tsv\", sep=\"\\t\")"
   ]
  },
  {
   "cell_type": "code",
   "execution_count": 53,
   "id": "3c4d5dbf",
   "metadata": {},
   "outputs": [
    {
     "ename": "ModuleNotFoundError",
     "evalue": "No module named 'seaborn'",
     "output_type": "error",
     "traceback": [
      "\u001b[0;31m---------------------------------------------------------------------------\u001b[0m",
      "\u001b[0;31mModuleNotFoundError\u001b[0m                       Traceback (most recent call last)",
      "\u001b[0;32m<ipython-input-53-a84c0541e888>\u001b[0m in \u001b[0;36m<module>\u001b[0;34m\u001b[0m\n\u001b[0;32m----> 1\u001b[0;31m \u001b[0;32mimport\u001b[0m \u001b[0mseaborn\u001b[0m \u001b[0;32mas\u001b[0m \u001b[0msns\u001b[0m\u001b[0;34m\u001b[0m\u001b[0;34m\u001b[0m\u001b[0m\n\u001b[0m",
      "\u001b[0;31mModuleNotFoundError\u001b[0m: No module named 'seaborn'"
     ]
    }
   ],
   "source": []
  },
  {
   "cell_type": "markdown",
   "id": "3c943ee0",
   "metadata": {},
   "source": [
    "## Data Exploration"
   ]
  },
  {
   "cell_type": "markdown",
   "id": "1f2a2b2e",
   "metadata": {},
   "source": [
    "#### First let's take a peek at the data"
   ]
  },
  {
   "cell_type": "code",
   "execution_count": 2,
   "id": "ffa76770",
   "metadata": {},
   "outputs": [
    {
     "data": {
      "text/html": [
       "<div>\n",
       "<style scoped>\n",
       "    .dataframe tbody tr th:only-of-type {\n",
       "        vertical-align: middle;\n",
       "    }\n",
       "\n",
       "    .dataframe tbody tr th {\n",
       "        vertical-align: top;\n",
       "    }\n",
       "\n",
       "    .dataframe thead th {\n",
       "        text-align: right;\n",
       "    }\n",
       "</style>\n",
       "<table border=\"1\" class=\"dataframe\">\n",
       "  <thead>\n",
       "    <tr style=\"text-align: right;\">\n",
       "      <th></th>\n",
       "      <th>code</th>\n",
       "      <th>url</th>\n",
       "      <th>creator</th>\n",
       "      <th>created_t</th>\n",
       "      <th>created_datetime</th>\n",
       "      <th>last_modified_t</th>\n",
       "      <th>last_modified_datetime</th>\n",
       "      <th>product_name</th>\n",
       "      <th>generic_name</th>\n",
       "      <th>quantity</th>\n",
       "      <th>...</th>\n",
       "      <th>fruits-vegetables-nuts_100g</th>\n",
       "      <th>fruits-vegetables-nuts-estimate_100g</th>\n",
       "      <th>collagen-meat-protein-ratio_100g</th>\n",
       "      <th>cocoa_100g</th>\n",
       "      <th>chlorophyl_100g</th>\n",
       "      <th>carbon-footprint_100g</th>\n",
       "      <th>nutrition-score-fr_100g</th>\n",
       "      <th>nutrition-score-uk_100g</th>\n",
       "      <th>glycemic-index_100g</th>\n",
       "      <th>water-hardness_100g</th>\n",
       "    </tr>\n",
       "  </thead>\n",
       "  <tbody>\n",
       "    <tr>\n",
       "      <th>0</th>\n",
       "      <td>3087</td>\n",
       "      <td>http://world-en.openfoodfacts.org/product/0000...</td>\n",
       "      <td>openfoodfacts-contributors</td>\n",
       "      <td>1474103866</td>\n",
       "      <td>2016-09-17T09:17:46Z</td>\n",
       "      <td>1474103893</td>\n",
       "      <td>2016-09-17T09:18:13Z</td>\n",
       "      <td>Farine de blé noir</td>\n",
       "      <td>NaN</td>\n",
       "      <td>1kg</td>\n",
       "      <td>...</td>\n",
       "      <td>NaN</td>\n",
       "      <td>NaN</td>\n",
       "      <td>NaN</td>\n",
       "      <td>NaN</td>\n",
       "      <td>NaN</td>\n",
       "      <td>NaN</td>\n",
       "      <td>NaN</td>\n",
       "      <td>NaN</td>\n",
       "      <td>NaN</td>\n",
       "      <td>NaN</td>\n",
       "    </tr>\n",
       "    <tr>\n",
       "      <th>1</th>\n",
       "      <td>4530</td>\n",
       "      <td>http://world-en.openfoodfacts.org/product/0000...</td>\n",
       "      <td>usda-ndb-import</td>\n",
       "      <td>1489069957</td>\n",
       "      <td>2017-03-09T14:32:37Z</td>\n",
       "      <td>1489069957</td>\n",
       "      <td>2017-03-09T14:32:37Z</td>\n",
       "      <td>Banana Chips Sweetened (Whole)</td>\n",
       "      <td>NaN</td>\n",
       "      <td>NaN</td>\n",
       "      <td>...</td>\n",
       "      <td>NaN</td>\n",
       "      <td>NaN</td>\n",
       "      <td>NaN</td>\n",
       "      <td>NaN</td>\n",
       "      <td>NaN</td>\n",
       "      <td>NaN</td>\n",
       "      <td>14.0</td>\n",
       "      <td>14.0</td>\n",
       "      <td>NaN</td>\n",
       "      <td>NaN</td>\n",
       "    </tr>\n",
       "    <tr>\n",
       "      <th>2</th>\n",
       "      <td>4559</td>\n",
       "      <td>http://world-en.openfoodfacts.org/product/0000...</td>\n",
       "      <td>usda-ndb-import</td>\n",
       "      <td>1489069957</td>\n",
       "      <td>2017-03-09T14:32:37Z</td>\n",
       "      <td>1489069957</td>\n",
       "      <td>2017-03-09T14:32:37Z</td>\n",
       "      <td>Peanuts</td>\n",
       "      <td>NaN</td>\n",
       "      <td>NaN</td>\n",
       "      <td>...</td>\n",
       "      <td>NaN</td>\n",
       "      <td>NaN</td>\n",
       "      <td>NaN</td>\n",
       "      <td>NaN</td>\n",
       "      <td>NaN</td>\n",
       "      <td>NaN</td>\n",
       "      <td>0.0</td>\n",
       "      <td>0.0</td>\n",
       "      <td>NaN</td>\n",
       "      <td>NaN</td>\n",
       "    </tr>\n",
       "    <tr>\n",
       "      <th>3</th>\n",
       "      <td>16087</td>\n",
       "      <td>http://world-en.openfoodfacts.org/product/0000...</td>\n",
       "      <td>usda-ndb-import</td>\n",
       "      <td>1489055731</td>\n",
       "      <td>2017-03-09T10:35:31Z</td>\n",
       "      <td>1489055731</td>\n",
       "      <td>2017-03-09T10:35:31Z</td>\n",
       "      <td>Organic Salted Nut Mix</td>\n",
       "      <td>NaN</td>\n",
       "      <td>NaN</td>\n",
       "      <td>...</td>\n",
       "      <td>NaN</td>\n",
       "      <td>NaN</td>\n",
       "      <td>NaN</td>\n",
       "      <td>NaN</td>\n",
       "      <td>NaN</td>\n",
       "      <td>NaN</td>\n",
       "      <td>12.0</td>\n",
       "      <td>12.0</td>\n",
       "      <td>NaN</td>\n",
       "      <td>NaN</td>\n",
       "    </tr>\n",
       "    <tr>\n",
       "      <th>4</th>\n",
       "      <td>16094</td>\n",
       "      <td>http://world-en.openfoodfacts.org/product/0000...</td>\n",
       "      <td>usda-ndb-import</td>\n",
       "      <td>1489055653</td>\n",
       "      <td>2017-03-09T10:34:13Z</td>\n",
       "      <td>1489055653</td>\n",
       "      <td>2017-03-09T10:34:13Z</td>\n",
       "      <td>Organic Polenta</td>\n",
       "      <td>NaN</td>\n",
       "      <td>NaN</td>\n",
       "      <td>...</td>\n",
       "      <td>NaN</td>\n",
       "      <td>NaN</td>\n",
       "      <td>NaN</td>\n",
       "      <td>NaN</td>\n",
       "      <td>NaN</td>\n",
       "      <td>NaN</td>\n",
       "      <td>NaN</td>\n",
       "      <td>NaN</td>\n",
       "      <td>NaN</td>\n",
       "      <td>NaN</td>\n",
       "    </tr>\n",
       "  </tbody>\n",
       "</table>\n",
       "<p>5 rows × 163 columns</p>\n",
       "</div>"
      ],
      "text/plain": [
       "    code                                                url  \\\n",
       "0   3087  http://world-en.openfoodfacts.org/product/0000...   \n",
       "1   4530  http://world-en.openfoodfacts.org/product/0000...   \n",
       "2   4559  http://world-en.openfoodfacts.org/product/0000...   \n",
       "3  16087  http://world-en.openfoodfacts.org/product/0000...   \n",
       "4  16094  http://world-en.openfoodfacts.org/product/0000...   \n",
       "\n",
       "                      creator   created_t      created_datetime  \\\n",
       "0  openfoodfacts-contributors  1474103866  2016-09-17T09:17:46Z   \n",
       "1             usda-ndb-import  1489069957  2017-03-09T14:32:37Z   \n",
       "2             usda-ndb-import  1489069957  2017-03-09T14:32:37Z   \n",
       "3             usda-ndb-import  1489055731  2017-03-09T10:35:31Z   \n",
       "4             usda-ndb-import  1489055653  2017-03-09T10:34:13Z   \n",
       "\n",
       "  last_modified_t last_modified_datetime                    product_name  \\\n",
       "0      1474103893   2016-09-17T09:18:13Z              Farine de blé noir   \n",
       "1      1489069957   2017-03-09T14:32:37Z  Banana Chips Sweetened (Whole)   \n",
       "2      1489069957   2017-03-09T14:32:37Z                         Peanuts   \n",
       "3      1489055731   2017-03-09T10:35:31Z          Organic Salted Nut Mix   \n",
       "4      1489055653   2017-03-09T10:34:13Z                 Organic Polenta   \n",
       "\n",
       "  generic_name quantity  ... fruits-vegetables-nuts_100g  \\\n",
       "0          NaN      1kg  ...                         NaN   \n",
       "1          NaN      NaN  ...                         NaN   \n",
       "2          NaN      NaN  ...                         NaN   \n",
       "3          NaN      NaN  ...                         NaN   \n",
       "4          NaN      NaN  ...                         NaN   \n",
       "\n",
       "  fruits-vegetables-nuts-estimate_100g collagen-meat-protein-ratio_100g  \\\n",
       "0                                  NaN                              NaN   \n",
       "1                                  NaN                              NaN   \n",
       "2                                  NaN                              NaN   \n",
       "3                                  NaN                              NaN   \n",
       "4                                  NaN                              NaN   \n",
       "\n",
       "  cocoa_100g chlorophyl_100g carbon-footprint_100g nutrition-score-fr_100g  \\\n",
       "0        NaN             NaN                   NaN                     NaN   \n",
       "1        NaN             NaN                   NaN                    14.0   \n",
       "2        NaN             NaN                   NaN                     0.0   \n",
       "3        NaN             NaN                   NaN                    12.0   \n",
       "4        NaN             NaN                   NaN                     NaN   \n",
       "\n",
       "  nutrition-score-uk_100g glycemic-index_100g water-hardness_100g  \n",
       "0                     NaN                 NaN                 NaN  \n",
       "1                    14.0                 NaN                 NaN  \n",
       "2                     0.0                 NaN                 NaN  \n",
       "3                    12.0                 NaN                 NaN  \n",
       "4                     NaN                 NaN                 NaN  \n",
       "\n",
       "[5 rows x 163 columns]"
      ]
     },
     "execution_count": 2,
     "metadata": {},
     "output_type": "execute_result"
    }
   ],
   "source": [
    "raw_df.head()"
   ]
  },
  {
   "cell_type": "code",
   "execution_count": 3,
   "id": "a9ba444e",
   "metadata": {},
   "outputs": [
    {
     "data": {
      "text/plain": [
       "(356027, 163)"
      ]
     },
     "execution_count": 3,
     "metadata": {},
     "output_type": "execute_result"
    }
   ],
   "source": [
    "raw_df.shape"
   ]
  },
  {
   "cell_type": "markdown",
   "id": "ba7f2f3d",
   "metadata": {},
   "source": [
    "#### Available columns"
   ]
  },
  {
   "cell_type": "code",
   "execution_count": 5,
   "id": "8045c254",
   "metadata": {
    "scrolled": true
   },
   "outputs": [
    {
     "name": "stdout",
     "output_type": "stream",
     "text": [
      "0: code\n",
      "1: url\n",
      "2: creator\n",
      "3: created_t\n",
      "4: created_datetime\n",
      "5: last_modified_t\n",
      "6: last_modified_datetime\n",
      "7: product_name\n",
      "8: generic_name\n",
      "9: quantity\n",
      "10: packaging\n",
      "11: packaging_tags\n",
      "12: brands\n",
      "13: brands_tags\n",
      "14: categories\n",
      "15: categories_tags\n",
      "16: categories_en\n",
      "17: origins\n",
      "18: origins_tags\n",
      "19: manufacturing_places\n",
      "20: manufacturing_places_tags\n",
      "21: labels\n",
      "22: labels_tags\n",
      "23: labels_en\n",
      "24: emb_codes\n",
      "25: emb_codes_tags\n",
      "26: first_packaging_code_geo\n",
      "27: cities\n",
      "28: cities_tags\n",
      "29: purchase_places\n",
      "30: stores\n",
      "31: countries\n",
      "32: countries_tags\n",
      "33: countries_en\n",
      "34: ingredients_text\n",
      "35: allergens\n",
      "36: allergens_en\n",
      "37: traces\n",
      "38: traces_tags\n",
      "39: traces_en\n",
      "40: serving_size\n",
      "41: no_nutriments\n",
      "42: additives_n\n",
      "43: additives\n",
      "44: additives_tags\n",
      "45: additives_en\n",
      "46: ingredients_from_palm_oil_n\n",
      "47: ingredients_from_palm_oil\n",
      "48: ingredients_from_palm_oil_tags\n",
      "49: ingredients_that_may_be_from_palm_oil_n\n",
      "50: ingredients_that_may_be_from_palm_oil\n",
      "51: ingredients_that_may_be_from_palm_oil_tags\n",
      "52: nutrition_grade_uk\n",
      "53: nutrition_grade_fr\n",
      "54: pnns_groups_1\n",
      "55: pnns_groups_2\n",
      "56: states\n",
      "57: states_tags\n",
      "58: states_en\n",
      "59: main_category\n",
      "60: main_category_en\n",
      "61: image_url\n",
      "62: image_small_url\n",
      "63: energy_100g\n",
      "64: energy-from-fat_100g\n",
      "65: fat_100g\n",
      "66: saturated-fat_100g\n",
      "67: -butyric-acid_100g\n",
      "68: -caproic-acid_100g\n",
      "69: -caprylic-acid_100g\n",
      "70: -capric-acid_100g\n",
      "71: -lauric-acid_100g\n",
      "72: -myristic-acid_100g\n",
      "73: -palmitic-acid_100g\n",
      "74: -stearic-acid_100g\n",
      "75: -arachidic-acid_100g\n",
      "76: -behenic-acid_100g\n",
      "77: -lignoceric-acid_100g\n",
      "78: -cerotic-acid_100g\n",
      "79: -montanic-acid_100g\n",
      "80: -melissic-acid_100g\n",
      "81: monounsaturated-fat_100g\n",
      "82: polyunsaturated-fat_100g\n",
      "83: omega-3-fat_100g\n",
      "84: -alpha-linolenic-acid_100g\n",
      "85: -eicosapentaenoic-acid_100g\n",
      "86: -docosahexaenoic-acid_100g\n",
      "87: omega-6-fat_100g\n",
      "88: -linoleic-acid_100g\n",
      "89: -arachidonic-acid_100g\n",
      "90: -gamma-linolenic-acid_100g\n",
      "91: -dihomo-gamma-linolenic-acid_100g\n",
      "92: omega-9-fat_100g\n",
      "93: -oleic-acid_100g\n",
      "94: -elaidic-acid_100g\n",
      "95: -gondoic-acid_100g\n",
      "96: -mead-acid_100g\n",
      "97: -erucic-acid_100g\n",
      "98: -nervonic-acid_100g\n",
      "99: trans-fat_100g\n",
      "100: cholesterol_100g\n",
      "101: carbohydrates_100g\n",
      "102: sugars_100g\n",
      "103: -sucrose_100g\n",
      "104: -glucose_100g\n",
      "105: -fructose_100g\n",
      "106: -lactose_100g\n",
      "107: -maltose_100g\n",
      "108: -maltodextrins_100g\n",
      "109: starch_100g\n",
      "110: polyols_100g\n",
      "111: fiber_100g\n",
      "112: proteins_100g\n",
      "113: casein_100g\n",
      "114: serum-proteins_100g\n",
      "115: nucleotides_100g\n",
      "116: salt_100g\n",
      "117: sodium_100g\n",
      "118: alcohol_100g\n",
      "119: vitamin-a_100g\n",
      "120: beta-carotene_100g\n",
      "121: vitamin-d_100g\n",
      "122: vitamin-e_100g\n",
      "123: vitamin-k_100g\n",
      "124: vitamin-c_100g\n",
      "125: vitamin-b1_100g\n",
      "126: vitamin-b2_100g\n",
      "127: vitamin-pp_100g\n",
      "128: vitamin-b6_100g\n",
      "129: vitamin-b9_100g\n",
      "130: folates_100g\n",
      "131: vitamin-b12_100g\n",
      "132: biotin_100g\n",
      "133: pantothenic-acid_100g\n",
      "134: silica_100g\n",
      "135: bicarbonate_100g\n",
      "136: potassium_100g\n",
      "137: chloride_100g\n",
      "138: calcium_100g\n",
      "139: phosphorus_100g\n",
      "140: iron_100g\n",
      "141: magnesium_100g\n",
      "142: zinc_100g\n",
      "143: copper_100g\n",
      "144: manganese_100g\n",
      "145: fluoride_100g\n",
      "146: selenium_100g\n",
      "147: chromium_100g\n",
      "148: molybdenum_100g\n",
      "149: iodine_100g\n",
      "150: caffeine_100g\n",
      "151: taurine_100g\n",
      "152: ph_100g\n",
      "153: fruits-vegetables-nuts_100g\n",
      "154: fruits-vegetables-nuts-estimate_100g\n",
      "155: collagen-meat-protein-ratio_100g\n",
      "156: cocoa_100g\n",
      "157: chlorophyl_100g\n",
      "158: carbon-footprint_100g\n",
      "159: nutrition-score-fr_100g\n",
      "160: nutrition-score-uk_100g\n",
      "161: glycemic-index_100g\n",
      "162: water-hardness_100g\n"
     ]
    }
   ],
   "source": [
    "for i, x in enumerate(raw_df.columns):\n",
    "    print(\"{}: {}\".format(i, x))"
   ]
  },
  {
   "cell_type": "markdown",
   "id": "b48d2884",
   "metadata": {},
   "source": [
    "#### Now let's start cleaning the data"
   ]
  },
  {
   "cell_type": "code",
   "execution_count": 6,
   "id": "1f94b358",
   "metadata": {},
   "outputs": [],
   "source": [
    "df = raw_df.copy()"
   ]
  },
  {
   "cell_type": "code",
   "execution_count": 7,
   "id": "9487ae43",
   "metadata": {},
   "outputs": [],
   "source": [
    "# Remove columns with all NaN\n",
    "df = df.dropna(how=\"all\", axis=1)"
   ]
  },
  {
   "cell_type": "markdown",
   "id": "9a798f6a",
   "metadata": {},
   "source": [
    "#### Some rows indicate more than one country so we will separate them"
   ]
  },
  {
   "cell_type": "code",
   "execution_count": 8,
   "id": "16b103a9",
   "metadata": {},
   "outputs": [
    {
     "data": {
      "text/plain": [
       "['France,United States',\n",
       " 'France,United Kingdom',\n",
       " 'Belgium,France,Netherlands,United Kingdom',\n",
       " 'United Kingdom,United States',\n",
       " 'Canada,United States',\n",
       " 'Australia,France',\n",
       " 'Canada,France,Switzerland,United States',\n",
       " 'France,Réunion',\n",
       " 'Australia,Belgium,Switzerland',\n",
       " 'France,Germany']"
      ]
     },
     "execution_count": 8,
     "metadata": {},
     "output_type": "execute_result"
    }
   ],
   "source": [
    "[x for x in list(df[\"countries_en\"].unique()) if \",\" in str(x)][:10]"
   ]
  },
  {
   "cell_type": "code",
   "execution_count": 9,
   "id": "6d79cbbb",
   "metadata": {},
   "outputs": [
    {
     "data": {
      "text/plain": [
       "(363872, 147)"
      ]
     },
     "execution_count": 9,
     "metadata": {},
     "output_type": "execute_result"
    }
   ],
   "source": [
    "# Make each row a unique country\n",
    "df[\"countries_en\"] = df[\"countries_en\"].str.split(\",\") \n",
    "df = df.explode('countries_en').reset_index(drop=True)\n",
    "gained_rows = df.shape[0] - raw_df.shape[0] \n",
    "df.shape"
   ]
  },
  {
   "cell_type": "code",
   "execution_count": 10,
   "id": "2e9ce638",
   "metadata": {},
   "outputs": [
    {
     "data": {
      "text/markdown": [
       "**We have gained 7845 more rows**"
      ],
      "text/plain": [
       "<IPython.core.display.Markdown object>"
      ]
     },
     "execution_count": 10,
     "metadata": {},
     "output_type": "execute_result"
    }
   ],
   "source": [
    "md(\"**We have gained {} more rows**\".format(gained_rows))"
   ]
  },
  {
   "cell_type": "code",
   "execution_count": 39,
   "id": "2eeac311",
   "metadata": {},
   "outputs": [
    {
     "data": {
      "text/html": [
       "<div>\n",
       "<style scoped>\n",
       "    .dataframe tbody tr th:only-of-type {\n",
       "        vertical-align: middle;\n",
       "    }\n",
       "\n",
       "    .dataframe tbody tr th {\n",
       "        vertical-align: top;\n",
       "    }\n",
       "\n",
       "    .dataframe thead th {\n",
       "        text-align: right;\n",
       "    }\n",
       "</style>\n",
       "<table border=\"1\" class=\"dataframe\">\n",
       "  <thead>\n",
       "    <tr style=\"text-align: right;\">\n",
       "      <th></th>\n",
       "      <th>percentage</th>\n",
       "    </tr>\n",
       "    <tr>\n",
       "      <th>countries_en</th>\n",
       "      <th></th>\n",
       "    </tr>\n",
       "  </thead>\n",
       "  <tbody>\n",
       "    <tr>\n",
       "      <th>United States</th>\n",
       "      <td>0.477783</td>\n",
       "    </tr>\n",
       "    <tr>\n",
       "      <th>France</th>\n",
       "      <td>0.355694</td>\n",
       "    </tr>\n",
       "    <tr>\n",
       "      <th>Switzerland</th>\n",
       "      <td>0.047320</td>\n",
       "    </tr>\n",
       "    <tr>\n",
       "      <th>Germany</th>\n",
       "      <td>0.025863</td>\n",
       "    </tr>\n",
       "    <tr>\n",
       "      <th>Spain</th>\n",
       "      <td>0.016671</td>\n",
       "    </tr>\n",
       "    <tr>\n",
       "      <th>United Kingdom</th>\n",
       "      <td>0.016467</td>\n",
       "    </tr>\n",
       "    <tr>\n",
       "      <th>Belgium</th>\n",
       "      <td>0.011244</td>\n",
       "    </tr>\n",
       "    <tr>\n",
       "      <th>Australia</th>\n",
       "      <td>0.006378</td>\n",
       "    </tr>\n",
       "    <tr>\n",
       "      <th>Russia</th>\n",
       "      <td>0.004514</td>\n",
       "    </tr>\n",
       "    <tr>\n",
       "      <th>Italy</th>\n",
       "      <td>0.004489</td>\n",
       "    </tr>\n",
       "  </tbody>\n",
       "</table>\n",
       "</div>"
      ],
      "text/plain": [
       "                percentage\n",
       "countries_en              \n",
       "United States     0.477783\n",
       "France            0.355694\n",
       "Switzerland       0.047320\n",
       "Germany           0.025863\n",
       "Spain             0.016671\n",
       "United Kingdom    0.016467\n",
       "Belgium           0.011244\n",
       "Australia         0.006378\n",
       "Russia            0.004514\n",
       "Italy             0.004489"
      ]
     },
     "execution_count": 39,
     "metadata": {},
     "output_type": "execute_result"
    }
   ],
   "source": [
    "country_pct_count = (df.groupby(\"countries_en\")[\"code\"].count()/np.sum(df.groupby(\"countries_en\")[\"code\"].count()))\n",
    "country_pct_count.rename(\"percentage\").sort_values(ascending=False).head(10).to_frame()"
   ]
  },
  {
   "cell_type": "code",
   "execution_count": 12,
   "id": "fcba32b4",
   "metadata": {},
   "outputs": [
    {
     "data": {
      "text/markdown": [
       "**The United States and France make up 83.35% of the data**"
      ],
      "text/plain": [
       "<IPython.core.display.Markdown object>"
      ]
     },
     "execution_count": 12,
     "metadata": {},
     "output_type": "execute_result"
    }
   ],
   "source": [
    "md(\"**The United States and France make up {:.2f}% of the data**\".format((country_pct_count[\"United States\"] + country_pct_count[\"France\"])*100))"
   ]
  },
  {
   "cell_type": "code",
   "execution_count": 13,
   "id": "f4e7dcf3",
   "metadata": {},
   "outputs": [],
   "source": [
    "us_df = df[df[\"countries_en\"] == \"United States\"]"
   ]
  },
  {
   "cell_type": "code",
   "execution_count": 45,
   "id": "6a3122f9",
   "metadata": {
    "scrolled": false
   },
   "outputs": [
    {
     "data": {
      "application/vnd.plotly.v1+json": {
       "config": {
        "plotlyServerURL": "https://plot.ly"
       },
       "data": [
        {
         "alignmentgroup": "True",
         "hovertemplate": "variable=main_category_en<br>index=%{x}<br>value=%{y}<extra></extra>",
         "legendgroup": "main_category_en",
         "marker": {
          "color": "#636efa"
         },
         "name": "main_category_en",
         "offsetgroup": "main_category_en",
         "orientation": "v",
         "showlegend": true,
         "textposition": "auto",
         "type": "bar",
         "x": [
          "Plant-based foods and beverages",
          "Groceries",
          "Sugary snacks",
          "Beverages",
          "Fruit juices",
          "Dairies",
          "Salty snacks",
          "Spreads",
          "Meats",
          "Canned foods"
         ],
         "xaxis": "x",
         "y": [
          558,
          550,
          469,
          452,
          229,
          151,
          85,
          49,
          45,
          27
         ],
         "yaxis": "y"
        }
       ],
       "layout": {
        "barmode": "relative",
        "legend": {
         "title": {
          "text": "variable"
         },
         "tracegroupgap": 0
        },
        "margin": {
         "t": 60
        },
        "showlegend": false,
        "template": {
         "data": {
          "bar": [
           {
            "error_x": {
             "color": "#2a3f5f"
            },
            "error_y": {
             "color": "#2a3f5f"
            },
            "marker": {
             "line": {
              "color": "#E5ECF6",
              "width": 0.5
             }
            },
            "type": "bar"
           }
          ],
          "barpolar": [
           {
            "marker": {
             "line": {
              "color": "#E5ECF6",
              "width": 0.5
             }
            },
            "type": "barpolar"
           }
          ],
          "carpet": [
           {
            "aaxis": {
             "endlinecolor": "#2a3f5f",
             "gridcolor": "white",
             "linecolor": "white",
             "minorgridcolor": "white",
             "startlinecolor": "#2a3f5f"
            },
            "baxis": {
             "endlinecolor": "#2a3f5f",
             "gridcolor": "white",
             "linecolor": "white",
             "minorgridcolor": "white",
             "startlinecolor": "#2a3f5f"
            },
            "type": "carpet"
           }
          ],
          "choropleth": [
           {
            "colorbar": {
             "outlinewidth": 0,
             "ticks": ""
            },
            "type": "choropleth"
           }
          ],
          "contour": [
           {
            "colorbar": {
             "outlinewidth": 0,
             "ticks": ""
            },
            "colorscale": [
             [
              0,
              "#0d0887"
             ],
             [
              0.1111111111111111,
              "#46039f"
             ],
             [
              0.2222222222222222,
              "#7201a8"
             ],
             [
              0.3333333333333333,
              "#9c179e"
             ],
             [
              0.4444444444444444,
              "#bd3786"
             ],
             [
              0.5555555555555556,
              "#d8576b"
             ],
             [
              0.6666666666666666,
              "#ed7953"
             ],
             [
              0.7777777777777778,
              "#fb9f3a"
             ],
             [
              0.8888888888888888,
              "#fdca26"
             ],
             [
              1,
              "#f0f921"
             ]
            ],
            "type": "contour"
           }
          ],
          "contourcarpet": [
           {
            "colorbar": {
             "outlinewidth": 0,
             "ticks": ""
            },
            "type": "contourcarpet"
           }
          ],
          "heatmap": [
           {
            "colorbar": {
             "outlinewidth": 0,
             "ticks": ""
            },
            "colorscale": [
             [
              0,
              "#0d0887"
             ],
             [
              0.1111111111111111,
              "#46039f"
             ],
             [
              0.2222222222222222,
              "#7201a8"
             ],
             [
              0.3333333333333333,
              "#9c179e"
             ],
             [
              0.4444444444444444,
              "#bd3786"
             ],
             [
              0.5555555555555556,
              "#d8576b"
             ],
             [
              0.6666666666666666,
              "#ed7953"
             ],
             [
              0.7777777777777778,
              "#fb9f3a"
             ],
             [
              0.8888888888888888,
              "#fdca26"
             ],
             [
              1,
              "#f0f921"
             ]
            ],
            "type": "heatmap"
           }
          ],
          "heatmapgl": [
           {
            "colorbar": {
             "outlinewidth": 0,
             "ticks": ""
            },
            "colorscale": [
             [
              0,
              "#0d0887"
             ],
             [
              0.1111111111111111,
              "#46039f"
             ],
             [
              0.2222222222222222,
              "#7201a8"
             ],
             [
              0.3333333333333333,
              "#9c179e"
             ],
             [
              0.4444444444444444,
              "#bd3786"
             ],
             [
              0.5555555555555556,
              "#d8576b"
             ],
             [
              0.6666666666666666,
              "#ed7953"
             ],
             [
              0.7777777777777778,
              "#fb9f3a"
             ],
             [
              0.8888888888888888,
              "#fdca26"
             ],
             [
              1,
              "#f0f921"
             ]
            ],
            "type": "heatmapgl"
           }
          ],
          "histogram": [
           {
            "marker": {
             "colorbar": {
              "outlinewidth": 0,
              "ticks": ""
             }
            },
            "type": "histogram"
           }
          ],
          "histogram2d": [
           {
            "colorbar": {
             "outlinewidth": 0,
             "ticks": ""
            },
            "colorscale": [
             [
              0,
              "#0d0887"
             ],
             [
              0.1111111111111111,
              "#46039f"
             ],
             [
              0.2222222222222222,
              "#7201a8"
             ],
             [
              0.3333333333333333,
              "#9c179e"
             ],
             [
              0.4444444444444444,
              "#bd3786"
             ],
             [
              0.5555555555555556,
              "#d8576b"
             ],
             [
              0.6666666666666666,
              "#ed7953"
             ],
             [
              0.7777777777777778,
              "#fb9f3a"
             ],
             [
              0.8888888888888888,
              "#fdca26"
             ],
             [
              1,
              "#f0f921"
             ]
            ],
            "type": "histogram2d"
           }
          ],
          "histogram2dcontour": [
           {
            "colorbar": {
             "outlinewidth": 0,
             "ticks": ""
            },
            "colorscale": [
             [
              0,
              "#0d0887"
             ],
             [
              0.1111111111111111,
              "#46039f"
             ],
             [
              0.2222222222222222,
              "#7201a8"
             ],
             [
              0.3333333333333333,
              "#9c179e"
             ],
             [
              0.4444444444444444,
              "#bd3786"
             ],
             [
              0.5555555555555556,
              "#d8576b"
             ],
             [
              0.6666666666666666,
              "#ed7953"
             ],
             [
              0.7777777777777778,
              "#fb9f3a"
             ],
             [
              0.8888888888888888,
              "#fdca26"
             ],
             [
              1,
              "#f0f921"
             ]
            ],
            "type": "histogram2dcontour"
           }
          ],
          "mesh3d": [
           {
            "colorbar": {
             "outlinewidth": 0,
             "ticks": ""
            },
            "type": "mesh3d"
           }
          ],
          "parcoords": [
           {
            "line": {
             "colorbar": {
              "outlinewidth": 0,
              "ticks": ""
             }
            },
            "type": "parcoords"
           }
          ],
          "pie": [
           {
            "automargin": true,
            "type": "pie"
           }
          ],
          "scatter": [
           {
            "marker": {
             "colorbar": {
              "outlinewidth": 0,
              "ticks": ""
             }
            },
            "type": "scatter"
           }
          ],
          "scatter3d": [
           {
            "line": {
             "colorbar": {
              "outlinewidth": 0,
              "ticks": ""
             }
            },
            "marker": {
             "colorbar": {
              "outlinewidth": 0,
              "ticks": ""
             }
            },
            "type": "scatter3d"
           }
          ],
          "scattercarpet": [
           {
            "marker": {
             "colorbar": {
              "outlinewidth": 0,
              "ticks": ""
             }
            },
            "type": "scattercarpet"
           }
          ],
          "scattergeo": [
           {
            "marker": {
             "colorbar": {
              "outlinewidth": 0,
              "ticks": ""
             }
            },
            "type": "scattergeo"
           }
          ],
          "scattergl": [
           {
            "marker": {
             "colorbar": {
              "outlinewidth": 0,
              "ticks": ""
             }
            },
            "type": "scattergl"
           }
          ],
          "scattermapbox": [
           {
            "marker": {
             "colorbar": {
              "outlinewidth": 0,
              "ticks": ""
             }
            },
            "type": "scattermapbox"
           }
          ],
          "scatterpolar": [
           {
            "marker": {
             "colorbar": {
              "outlinewidth": 0,
              "ticks": ""
             }
            },
            "type": "scatterpolar"
           }
          ],
          "scatterpolargl": [
           {
            "marker": {
             "colorbar": {
              "outlinewidth": 0,
              "ticks": ""
             }
            },
            "type": "scatterpolargl"
           }
          ],
          "scatterternary": [
           {
            "marker": {
             "colorbar": {
              "outlinewidth": 0,
              "ticks": ""
             }
            },
            "type": "scatterternary"
           }
          ],
          "surface": [
           {
            "colorbar": {
             "outlinewidth": 0,
             "ticks": ""
            },
            "colorscale": [
             [
              0,
              "#0d0887"
             ],
             [
              0.1111111111111111,
              "#46039f"
             ],
             [
              0.2222222222222222,
              "#7201a8"
             ],
             [
              0.3333333333333333,
              "#9c179e"
             ],
             [
              0.4444444444444444,
              "#bd3786"
             ],
             [
              0.5555555555555556,
              "#d8576b"
             ],
             [
              0.6666666666666666,
              "#ed7953"
             ],
             [
              0.7777777777777778,
              "#fb9f3a"
             ],
             [
              0.8888888888888888,
              "#fdca26"
             ],
             [
              1,
              "#f0f921"
             ]
            ],
            "type": "surface"
           }
          ],
          "table": [
           {
            "cells": {
             "fill": {
              "color": "#EBF0F8"
             },
             "line": {
              "color": "white"
             }
            },
            "header": {
             "fill": {
              "color": "#C8D4E3"
             },
             "line": {
              "color": "white"
             }
            },
            "type": "table"
           }
          ]
         },
         "layout": {
          "annotationdefaults": {
           "arrowcolor": "#2a3f5f",
           "arrowhead": 0,
           "arrowwidth": 1
          },
          "autotypenumbers": "strict",
          "coloraxis": {
           "colorbar": {
            "outlinewidth": 0,
            "ticks": ""
           }
          },
          "colorscale": {
           "diverging": [
            [
             0,
             "#8e0152"
            ],
            [
             0.1,
             "#c51b7d"
            ],
            [
             0.2,
             "#de77ae"
            ],
            [
             0.3,
             "#f1b6da"
            ],
            [
             0.4,
             "#fde0ef"
            ],
            [
             0.5,
             "#f7f7f7"
            ],
            [
             0.6,
             "#e6f5d0"
            ],
            [
             0.7,
             "#b8e186"
            ],
            [
             0.8,
             "#7fbc41"
            ],
            [
             0.9,
             "#4d9221"
            ],
            [
             1,
             "#276419"
            ]
           ],
           "sequential": [
            [
             0,
             "#0d0887"
            ],
            [
             0.1111111111111111,
             "#46039f"
            ],
            [
             0.2222222222222222,
             "#7201a8"
            ],
            [
             0.3333333333333333,
             "#9c179e"
            ],
            [
             0.4444444444444444,
             "#bd3786"
            ],
            [
             0.5555555555555556,
             "#d8576b"
            ],
            [
             0.6666666666666666,
             "#ed7953"
            ],
            [
             0.7777777777777778,
             "#fb9f3a"
            ],
            [
             0.8888888888888888,
             "#fdca26"
            ],
            [
             1,
             "#f0f921"
            ]
           ],
           "sequentialminus": [
            [
             0,
             "#0d0887"
            ],
            [
             0.1111111111111111,
             "#46039f"
            ],
            [
             0.2222222222222222,
             "#7201a8"
            ],
            [
             0.3333333333333333,
             "#9c179e"
            ],
            [
             0.4444444444444444,
             "#bd3786"
            ],
            [
             0.5555555555555556,
             "#d8576b"
            ],
            [
             0.6666666666666666,
             "#ed7953"
            ],
            [
             0.7777777777777778,
             "#fb9f3a"
            ],
            [
             0.8888888888888888,
             "#fdca26"
            ],
            [
             1,
             "#f0f921"
            ]
           ]
          },
          "colorway": [
           "#636efa",
           "#EF553B",
           "#00cc96",
           "#ab63fa",
           "#FFA15A",
           "#19d3f3",
           "#FF6692",
           "#B6E880",
           "#FF97FF",
           "#FECB52"
          ],
          "font": {
           "color": "#2a3f5f"
          },
          "geo": {
           "bgcolor": "white",
           "lakecolor": "white",
           "landcolor": "#E5ECF6",
           "showlakes": true,
           "showland": true,
           "subunitcolor": "white"
          },
          "hoverlabel": {
           "align": "left"
          },
          "hovermode": "closest",
          "mapbox": {
           "style": "light"
          },
          "paper_bgcolor": "white",
          "plot_bgcolor": "#E5ECF6",
          "polar": {
           "angularaxis": {
            "gridcolor": "white",
            "linecolor": "white",
            "ticks": ""
           },
           "bgcolor": "#E5ECF6",
           "radialaxis": {
            "gridcolor": "white",
            "linecolor": "white",
            "ticks": ""
           }
          },
          "scene": {
           "xaxis": {
            "backgroundcolor": "#E5ECF6",
            "gridcolor": "white",
            "gridwidth": 2,
            "linecolor": "white",
            "showbackground": true,
            "ticks": "",
            "zerolinecolor": "white"
           },
           "yaxis": {
            "backgroundcolor": "#E5ECF6",
            "gridcolor": "white",
            "gridwidth": 2,
            "linecolor": "white",
            "showbackground": true,
            "ticks": "",
            "zerolinecolor": "white"
           },
           "zaxis": {
            "backgroundcolor": "#E5ECF6",
            "gridcolor": "white",
            "gridwidth": 2,
            "linecolor": "white",
            "showbackground": true,
            "ticks": "",
            "zerolinecolor": "white"
           }
          },
          "shapedefaults": {
           "line": {
            "color": "#2a3f5f"
           }
          },
          "ternary": {
           "aaxis": {
            "gridcolor": "white",
            "linecolor": "white",
            "ticks": ""
           },
           "baxis": {
            "gridcolor": "white",
            "linecolor": "white",
            "ticks": ""
           },
           "bgcolor": "#E5ECF6",
           "caxis": {
            "gridcolor": "white",
            "linecolor": "white",
            "ticks": ""
           }
          },
          "title": {
           "x": 0.05
          },
          "xaxis": {
           "automargin": true,
           "gridcolor": "white",
           "linecolor": "white",
           "ticks": "",
           "title": {
            "standoff": 15
           },
           "zerolinecolor": "white",
           "zerolinewidth": 2
          },
          "yaxis": {
           "automargin": true,
           "gridcolor": "white",
           "linecolor": "white",
           "ticks": "",
           "title": {
            "standoff": 15
           },
           "zerolinecolor": "white",
           "zerolinewidth": 2
          }
         }
        },
        "xaxis": {
         "anchor": "y",
         "domain": [
          0,
          1
         ],
         "title": {
          "text": "index"
         }
        },
        "yaxis": {
         "anchor": "x",
         "domain": [
          0,
          1
         ],
         "title": {
          "text": "value"
         }
        }
       }
      },
      "text/html": [
       "<div>                            <div id=\"78ceecb7-7fbb-452a-bc11-9d995e8f3568\" class=\"plotly-graph-div\" style=\"height:525px; width:100%;\"></div>            <script type=\"text/javascript\">                require([\"plotly\"], function(Plotly) {                    window.PLOTLYENV=window.PLOTLYENV || {};                                    if (document.getElementById(\"78ceecb7-7fbb-452a-bc11-9d995e8f3568\")) {                    Plotly.newPlot(                        \"78ceecb7-7fbb-452a-bc11-9d995e8f3568\",                        [{\"alignmentgroup\": \"True\", \"hovertemplate\": \"variable=main_category_en<br>index=%{x}<br>value=%{y}<extra></extra>\", \"legendgroup\": \"main_category_en\", \"marker\": {\"color\": \"#636efa\"}, \"name\": \"main_category_en\", \"offsetgroup\": \"main_category_en\", \"orientation\": \"v\", \"showlegend\": true, \"textposition\": \"auto\", \"type\": \"bar\", \"x\": [\"Plant-based foods and beverages\", \"Groceries\", \"Sugary snacks\", \"Beverages\", \"Fruit juices\", \"Dairies\", \"Salty snacks\", \"Spreads\", \"Meats\", \"Canned foods\"], \"xaxis\": \"x\", \"y\": [558, 550, 469, 452, 229, 151, 85, 49, 45, 27], \"yaxis\": \"y\"}],                        {\"barmode\": \"relative\", \"legend\": {\"title\": {\"text\": \"variable\"}, \"tracegroupgap\": 0}, \"margin\": {\"t\": 60}, \"showlegend\": false, \"template\": {\"data\": {\"bar\": [{\"error_x\": {\"color\": \"#2a3f5f\"}, \"error_y\": {\"color\": \"#2a3f5f\"}, \"marker\": {\"line\": {\"color\": \"#E5ECF6\", \"width\": 0.5}}, \"type\": \"bar\"}], \"barpolar\": [{\"marker\": {\"line\": {\"color\": \"#E5ECF6\", \"width\": 0.5}}, \"type\": \"barpolar\"}], \"carpet\": [{\"aaxis\": {\"endlinecolor\": \"#2a3f5f\", \"gridcolor\": \"white\", \"linecolor\": \"white\", \"minorgridcolor\": \"white\", \"startlinecolor\": \"#2a3f5f\"}, \"baxis\": {\"endlinecolor\": \"#2a3f5f\", \"gridcolor\": \"white\", \"linecolor\": \"white\", \"minorgridcolor\": \"white\", \"startlinecolor\": \"#2a3f5f\"}, \"type\": \"carpet\"}], \"choropleth\": [{\"colorbar\": {\"outlinewidth\": 0, \"ticks\": \"\"}, \"type\": \"choropleth\"}], \"contour\": [{\"colorbar\": {\"outlinewidth\": 0, \"ticks\": \"\"}, \"colorscale\": [[0.0, \"#0d0887\"], [0.1111111111111111, \"#46039f\"], [0.2222222222222222, \"#7201a8\"], [0.3333333333333333, \"#9c179e\"], [0.4444444444444444, \"#bd3786\"], [0.5555555555555556, \"#d8576b\"], [0.6666666666666666, \"#ed7953\"], [0.7777777777777778, \"#fb9f3a\"], [0.8888888888888888, \"#fdca26\"], [1.0, \"#f0f921\"]], \"type\": \"contour\"}], \"contourcarpet\": [{\"colorbar\": {\"outlinewidth\": 0, \"ticks\": \"\"}, \"type\": \"contourcarpet\"}], \"heatmap\": [{\"colorbar\": {\"outlinewidth\": 0, \"ticks\": \"\"}, \"colorscale\": [[0.0, \"#0d0887\"], [0.1111111111111111, \"#46039f\"], [0.2222222222222222, \"#7201a8\"], [0.3333333333333333, \"#9c179e\"], [0.4444444444444444, \"#bd3786\"], [0.5555555555555556, \"#d8576b\"], [0.6666666666666666, \"#ed7953\"], [0.7777777777777778, \"#fb9f3a\"], [0.8888888888888888, \"#fdca26\"], [1.0, \"#f0f921\"]], \"type\": \"heatmap\"}], \"heatmapgl\": [{\"colorbar\": {\"outlinewidth\": 0, \"ticks\": \"\"}, \"colorscale\": [[0.0, \"#0d0887\"], [0.1111111111111111, \"#46039f\"], [0.2222222222222222, \"#7201a8\"], [0.3333333333333333, \"#9c179e\"], [0.4444444444444444, \"#bd3786\"], [0.5555555555555556, \"#d8576b\"], [0.6666666666666666, \"#ed7953\"], [0.7777777777777778, \"#fb9f3a\"], [0.8888888888888888, \"#fdca26\"], [1.0, \"#f0f921\"]], \"type\": \"heatmapgl\"}], \"histogram\": [{\"marker\": {\"colorbar\": {\"outlinewidth\": 0, \"ticks\": \"\"}}, \"type\": \"histogram\"}], \"histogram2d\": [{\"colorbar\": {\"outlinewidth\": 0, \"ticks\": \"\"}, \"colorscale\": [[0.0, \"#0d0887\"], [0.1111111111111111, \"#46039f\"], [0.2222222222222222, \"#7201a8\"], [0.3333333333333333, \"#9c179e\"], [0.4444444444444444, \"#bd3786\"], [0.5555555555555556, \"#d8576b\"], [0.6666666666666666, \"#ed7953\"], [0.7777777777777778, \"#fb9f3a\"], [0.8888888888888888, \"#fdca26\"], [1.0, \"#f0f921\"]], \"type\": \"histogram2d\"}], \"histogram2dcontour\": [{\"colorbar\": {\"outlinewidth\": 0, \"ticks\": \"\"}, \"colorscale\": [[0.0, \"#0d0887\"], [0.1111111111111111, \"#46039f\"], [0.2222222222222222, \"#7201a8\"], [0.3333333333333333, \"#9c179e\"], [0.4444444444444444, \"#bd3786\"], [0.5555555555555556, \"#d8576b\"], [0.6666666666666666, \"#ed7953\"], [0.7777777777777778, \"#fb9f3a\"], [0.8888888888888888, \"#fdca26\"], [1.0, \"#f0f921\"]], \"type\": \"histogram2dcontour\"}], \"mesh3d\": [{\"colorbar\": {\"outlinewidth\": 0, \"ticks\": \"\"}, \"type\": \"mesh3d\"}], \"parcoords\": [{\"line\": {\"colorbar\": {\"outlinewidth\": 0, \"ticks\": \"\"}}, \"type\": \"parcoords\"}], \"pie\": [{\"automargin\": true, \"type\": \"pie\"}], \"scatter\": [{\"marker\": {\"colorbar\": {\"outlinewidth\": 0, \"ticks\": \"\"}}, \"type\": \"scatter\"}], \"scatter3d\": [{\"line\": {\"colorbar\": {\"outlinewidth\": 0, \"ticks\": \"\"}}, \"marker\": {\"colorbar\": {\"outlinewidth\": 0, \"ticks\": \"\"}}, \"type\": \"scatter3d\"}], \"scattercarpet\": [{\"marker\": {\"colorbar\": {\"outlinewidth\": 0, \"ticks\": \"\"}}, \"type\": \"scattercarpet\"}], \"scattergeo\": [{\"marker\": {\"colorbar\": {\"outlinewidth\": 0, \"ticks\": \"\"}}, \"type\": \"scattergeo\"}], \"scattergl\": [{\"marker\": {\"colorbar\": {\"outlinewidth\": 0, \"ticks\": \"\"}}, \"type\": \"scattergl\"}], \"scattermapbox\": [{\"marker\": {\"colorbar\": {\"outlinewidth\": 0, \"ticks\": \"\"}}, \"type\": \"scattermapbox\"}], \"scatterpolar\": [{\"marker\": {\"colorbar\": {\"outlinewidth\": 0, \"ticks\": \"\"}}, \"type\": \"scatterpolar\"}], \"scatterpolargl\": [{\"marker\": {\"colorbar\": {\"outlinewidth\": 0, \"ticks\": \"\"}}, \"type\": \"scatterpolargl\"}], \"scatterternary\": [{\"marker\": {\"colorbar\": {\"outlinewidth\": 0, \"ticks\": \"\"}}, \"type\": \"scatterternary\"}], \"surface\": [{\"colorbar\": {\"outlinewidth\": 0, \"ticks\": \"\"}, \"colorscale\": [[0.0, \"#0d0887\"], [0.1111111111111111, \"#46039f\"], [0.2222222222222222, \"#7201a8\"], [0.3333333333333333, \"#9c179e\"], [0.4444444444444444, \"#bd3786\"], [0.5555555555555556, \"#d8576b\"], [0.6666666666666666, \"#ed7953\"], [0.7777777777777778, \"#fb9f3a\"], [0.8888888888888888, \"#fdca26\"], [1.0, \"#f0f921\"]], \"type\": \"surface\"}], \"table\": [{\"cells\": {\"fill\": {\"color\": \"#EBF0F8\"}, \"line\": {\"color\": \"white\"}}, \"header\": {\"fill\": {\"color\": \"#C8D4E3\"}, \"line\": {\"color\": \"white\"}}, \"type\": \"table\"}]}, \"layout\": {\"annotationdefaults\": {\"arrowcolor\": \"#2a3f5f\", \"arrowhead\": 0, \"arrowwidth\": 1}, \"autotypenumbers\": \"strict\", \"coloraxis\": {\"colorbar\": {\"outlinewidth\": 0, \"ticks\": \"\"}}, \"colorscale\": {\"diverging\": [[0, \"#8e0152\"], [0.1, \"#c51b7d\"], [0.2, \"#de77ae\"], [0.3, \"#f1b6da\"], [0.4, \"#fde0ef\"], [0.5, \"#f7f7f7\"], [0.6, \"#e6f5d0\"], [0.7, \"#b8e186\"], [0.8, \"#7fbc41\"], [0.9, \"#4d9221\"], [1, \"#276419\"]], \"sequential\": [[0.0, \"#0d0887\"], [0.1111111111111111, \"#46039f\"], [0.2222222222222222, \"#7201a8\"], [0.3333333333333333, \"#9c179e\"], [0.4444444444444444, \"#bd3786\"], [0.5555555555555556, \"#d8576b\"], [0.6666666666666666, \"#ed7953\"], [0.7777777777777778, \"#fb9f3a\"], [0.8888888888888888, \"#fdca26\"], [1.0, \"#f0f921\"]], \"sequentialminus\": [[0.0, \"#0d0887\"], [0.1111111111111111, \"#46039f\"], [0.2222222222222222, \"#7201a8\"], [0.3333333333333333, \"#9c179e\"], [0.4444444444444444, \"#bd3786\"], [0.5555555555555556, \"#d8576b\"], [0.6666666666666666, \"#ed7953\"], [0.7777777777777778, \"#fb9f3a\"], [0.8888888888888888, \"#fdca26\"], [1.0, \"#f0f921\"]]}, \"colorway\": [\"#636efa\", \"#EF553B\", \"#00cc96\", \"#ab63fa\", \"#FFA15A\", \"#19d3f3\", \"#FF6692\", \"#B6E880\", \"#FF97FF\", \"#FECB52\"], \"font\": {\"color\": \"#2a3f5f\"}, \"geo\": {\"bgcolor\": \"white\", \"lakecolor\": \"white\", \"landcolor\": \"#E5ECF6\", \"showlakes\": true, \"showland\": true, \"subunitcolor\": \"white\"}, \"hoverlabel\": {\"align\": \"left\"}, \"hovermode\": \"closest\", \"mapbox\": {\"style\": \"light\"}, \"paper_bgcolor\": \"white\", \"plot_bgcolor\": \"#E5ECF6\", \"polar\": {\"angularaxis\": {\"gridcolor\": \"white\", \"linecolor\": \"white\", \"ticks\": \"\"}, \"bgcolor\": \"#E5ECF6\", \"radialaxis\": {\"gridcolor\": \"white\", \"linecolor\": \"white\", \"ticks\": \"\"}}, \"scene\": {\"xaxis\": {\"backgroundcolor\": \"#E5ECF6\", \"gridcolor\": \"white\", \"gridwidth\": 2, \"linecolor\": \"white\", \"showbackground\": true, \"ticks\": \"\", \"zerolinecolor\": \"white\"}, \"yaxis\": {\"backgroundcolor\": \"#E5ECF6\", \"gridcolor\": \"white\", \"gridwidth\": 2, \"linecolor\": \"white\", \"showbackground\": true, \"ticks\": \"\", \"zerolinecolor\": \"white\"}, \"zaxis\": {\"backgroundcolor\": \"#E5ECF6\", \"gridcolor\": \"white\", \"gridwidth\": 2, \"linecolor\": \"white\", \"showbackground\": true, \"ticks\": \"\", \"zerolinecolor\": \"white\"}}, \"shapedefaults\": {\"line\": {\"color\": \"#2a3f5f\"}}, \"ternary\": {\"aaxis\": {\"gridcolor\": \"white\", \"linecolor\": \"white\", \"ticks\": \"\"}, \"baxis\": {\"gridcolor\": \"white\", \"linecolor\": \"white\", \"ticks\": \"\"}, \"bgcolor\": \"#E5ECF6\", \"caxis\": {\"gridcolor\": \"white\", \"linecolor\": \"white\", \"ticks\": \"\"}}, \"title\": {\"x\": 0.05}, \"xaxis\": {\"automargin\": true, \"gridcolor\": \"white\", \"linecolor\": \"white\", \"ticks\": \"\", \"title\": {\"standoff\": 15}, \"zerolinecolor\": \"white\", \"zerolinewidth\": 2}, \"yaxis\": {\"automargin\": true, \"gridcolor\": \"white\", \"linecolor\": \"white\", \"ticks\": \"\", \"title\": {\"standoff\": 15}, \"zerolinecolor\": \"white\", \"zerolinewidth\": 2}}}, \"xaxis\": {\"anchor\": \"y\", \"domain\": [0.0, 1.0], \"title\": {\"text\": \"index\"}}, \"yaxis\": {\"anchor\": \"x\", \"domain\": [0.0, 1.0], \"title\": {\"text\": \"value\"}}},                        {\"responsive\": true}                    ).then(function(){\n",
       "                            \n",
       "var gd = document.getElementById('78ceecb7-7fbb-452a-bc11-9d995e8f3568');\n",
       "var x = new MutationObserver(function (mutations, observer) {{\n",
       "        var display = window.getComputedStyle(gd).display;\n",
       "        if (!display || display === 'none') {{\n",
       "            console.log([gd, 'removed!']);\n",
       "            Plotly.purge(gd);\n",
       "            observer.disconnect();\n",
       "        }}\n",
       "}});\n",
       "\n",
       "// Listen for the removal of the full notebook cells\n",
       "var notebookContainer = gd.closest('#notebook-container');\n",
       "if (notebookContainer) {{\n",
       "    x.observe(notebookContainer, {childList: true});\n",
       "}}\n",
       "\n",
       "// Listen for the clearing of the current output cell\n",
       "var outputEl = gd.closest('.output');\n",
       "if (outputEl) {{\n",
       "    x.observe(outputEl, {childList: true});\n",
       "}}\n",
       "\n",
       "                        })                };                });            </script>        </div>"
      ]
     },
     "metadata": {},
     "output_type": "display_data"
    }
   ],
   "source": [
    "us_df[\"main_category_en\"].value_counts().nlargest(10).plot(kind=\"bar\").update_layout(showlegend=False)"
   ]
  },
  {
   "cell_type": "code",
   "execution_count": 52,
   "id": "f2deeb02",
   "metadata": {},
   "outputs": [
    {
     "data": {
      "text/html": [
       "<div>\n",
       "<style scoped>\n",
       "    .dataframe tbody tr th:only-of-type {\n",
       "        vertical-align: middle;\n",
       "    }\n",
       "\n",
       "    .dataframe tbody tr th {\n",
       "        vertical-align: top;\n",
       "    }\n",
       "\n",
       "    .dataframe thead th {\n",
       "        text-align: right;\n",
       "    }\n",
       "</style>\n",
       "<table border=\"1\" class=\"dataframe\">\n",
       "  <thead>\n",
       "    <tr style=\"text-align: right;\">\n",
       "      <th></th>\n",
       "      <th>additives_n</th>\n",
       "      <th>ingredients_from_palm_oil_n</th>\n",
       "      <th>ingredients_that_may_be_from_palm_oil_n</th>\n",
       "      <th>energy_100g</th>\n",
       "      <th>energy-from-fat_100g</th>\n",
       "      <th>fat_100g</th>\n",
       "      <th>saturated-fat_100g</th>\n",
       "      <th>-caprylic-acid_100g</th>\n",
       "      <th>-capric-acid_100g</th>\n",
       "      <th>-lauric-acid_100g</th>\n",
       "      <th>...</th>\n",
       "      <th>caffeine_100g</th>\n",
       "      <th>taurine_100g</th>\n",
       "      <th>ph_100g</th>\n",
       "      <th>fruits-vegetables-nuts_100g</th>\n",
       "      <th>fruits-vegetables-nuts-estimate_100g</th>\n",
       "      <th>collagen-meat-protein-ratio_100g</th>\n",
       "      <th>cocoa_100g</th>\n",
       "      <th>carbon-footprint_100g</th>\n",
       "      <th>nutrition-score-fr_100g</th>\n",
       "      <th>nutrition-score-uk_100g</th>\n",
       "    </tr>\n",
       "  </thead>\n",
       "  <tbody>\n",
       "    <tr>\n",
       "      <th>additives_n</th>\n",
       "      <td>1.000000</td>\n",
       "      <td>0.005347</td>\n",
       "      <td>0.242053</td>\n",
       "      <td>-0.014508</td>\n",
       "      <td>-0.101322</td>\n",
       "      <td>-0.149549</td>\n",
       "      <td>-0.061000</td>\n",
       "      <td>NaN</td>\n",
       "      <td>NaN</td>\n",
       "      <td>NaN</td>\n",
       "      <td>...</td>\n",
       "      <td>0.295603</td>\n",
       "      <td>NaN</td>\n",
       "      <td>NaN</td>\n",
       "      <td>-0.305279</td>\n",
       "      <td>NaN</td>\n",
       "      <td>NaN</td>\n",
       "      <td>-0.590283</td>\n",
       "      <td>NaN</td>\n",
       "      <td>0.158047</td>\n",
       "      <td>0.157326</td>\n",
       "    </tr>\n",
       "    <tr>\n",
       "      <th>ingredients_from_palm_oil_n</th>\n",
       "      <td>0.005347</td>\n",
       "      <td>1.000000</td>\n",
       "      <td>0.006887</td>\n",
       "      <td>0.003544</td>\n",
       "      <td>0.051917</td>\n",
       "      <td>0.002154</td>\n",
       "      <td>0.002241</td>\n",
       "      <td>NaN</td>\n",
       "      <td>NaN</td>\n",
       "      <td>NaN</td>\n",
       "      <td>...</td>\n",
       "      <td>NaN</td>\n",
       "      <td>NaN</td>\n",
       "      <td>NaN</td>\n",
       "      <td>NaN</td>\n",
       "      <td>NaN</td>\n",
       "      <td>NaN</td>\n",
       "      <td>NaN</td>\n",
       "      <td>NaN</td>\n",
       "      <td>0.006445</td>\n",
       "      <td>0.006453</td>\n",
       "    </tr>\n",
       "    <tr>\n",
       "      <th>ingredients_that_may_be_from_palm_oil_n</th>\n",
       "      <td>0.242053</td>\n",
       "      <td>0.006887</td>\n",
       "      <td>1.000000</td>\n",
       "      <td>-0.033238</td>\n",
       "      <td>0.175392</td>\n",
       "      <td>-0.013706</td>\n",
       "      <td>0.014613</td>\n",
       "      <td>NaN</td>\n",
       "      <td>NaN</td>\n",
       "      <td>NaN</td>\n",
       "      <td>...</td>\n",
       "      <td>NaN</td>\n",
       "      <td>NaN</td>\n",
       "      <td>NaN</td>\n",
       "      <td>NaN</td>\n",
       "      <td>NaN</td>\n",
       "      <td>NaN</td>\n",
       "      <td>NaN</td>\n",
       "      <td>NaN</td>\n",
       "      <td>0.030940</td>\n",
       "      <td>0.030163</td>\n",
       "    </tr>\n",
       "    <tr>\n",
       "      <th>energy_100g</th>\n",
       "      <td>-0.014508</td>\n",
       "      <td>0.003544</td>\n",
       "      <td>-0.033238</td>\n",
       "      <td>1.000000</td>\n",
       "      <td>0.772946</td>\n",
       "      <td>0.741531</td>\n",
       "      <td>0.531799</td>\n",
       "      <td>NaN</td>\n",
       "      <td>NaN</td>\n",
       "      <td>NaN</td>\n",
       "      <td>...</td>\n",
       "      <td>-0.027583</td>\n",
       "      <td>NaN</td>\n",
       "      <td>NaN</td>\n",
       "      <td>-0.078907</td>\n",
       "      <td>NaN</td>\n",
       "      <td>NaN</td>\n",
       "      <td>0.792415</td>\n",
       "      <td>1.0</td>\n",
       "      <td>0.490296</td>\n",
       "      <td>0.491777</td>\n",
       "    </tr>\n",
       "    <tr>\n",
       "      <th>energy-from-fat_100g</th>\n",
       "      <td>-0.101322</td>\n",
       "      <td>0.051917</td>\n",
       "      <td>0.175392</td>\n",
       "      <td>0.772946</td>\n",
       "      <td>1.000000</td>\n",
       "      <td>0.992143</td>\n",
       "      <td>0.714867</td>\n",
       "      <td>NaN</td>\n",
       "      <td>NaN</td>\n",
       "      <td>NaN</td>\n",
       "      <td>...</td>\n",
       "      <td>NaN</td>\n",
       "      <td>NaN</td>\n",
       "      <td>NaN</td>\n",
       "      <td>NaN</td>\n",
       "      <td>NaN</td>\n",
       "      <td>NaN</td>\n",
       "      <td>NaN</td>\n",
       "      <td>NaN</td>\n",
       "      <td>0.552104</td>\n",
       "      <td>0.580010</td>\n",
       "    </tr>\n",
       "    <tr>\n",
       "      <th>...</th>\n",
       "      <td>...</td>\n",
       "      <td>...</td>\n",
       "      <td>...</td>\n",
       "      <td>...</td>\n",
       "      <td>...</td>\n",
       "      <td>...</td>\n",
       "      <td>...</td>\n",
       "      <td>...</td>\n",
       "      <td>...</td>\n",
       "      <td>...</td>\n",
       "      <td>...</td>\n",
       "      <td>...</td>\n",
       "      <td>...</td>\n",
       "      <td>...</td>\n",
       "      <td>...</td>\n",
       "      <td>...</td>\n",
       "      <td>...</td>\n",
       "      <td>...</td>\n",
       "      <td>...</td>\n",
       "      <td>...</td>\n",
       "      <td>...</td>\n",
       "    </tr>\n",
       "    <tr>\n",
       "      <th>collagen-meat-protein-ratio_100g</th>\n",
       "      <td>NaN</td>\n",
       "      <td>NaN</td>\n",
       "      <td>NaN</td>\n",
       "      <td>NaN</td>\n",
       "      <td>NaN</td>\n",
       "      <td>NaN</td>\n",
       "      <td>NaN</td>\n",
       "      <td>NaN</td>\n",
       "      <td>NaN</td>\n",
       "      <td>NaN</td>\n",
       "      <td>...</td>\n",
       "      <td>NaN</td>\n",
       "      <td>NaN</td>\n",
       "      <td>NaN</td>\n",
       "      <td>NaN</td>\n",
       "      <td>NaN</td>\n",
       "      <td>NaN</td>\n",
       "      <td>NaN</td>\n",
       "      <td>NaN</td>\n",
       "      <td>NaN</td>\n",
       "      <td>NaN</td>\n",
       "    </tr>\n",
       "    <tr>\n",
       "      <th>cocoa_100g</th>\n",
       "      <td>-0.590283</td>\n",
       "      <td>NaN</td>\n",
       "      <td>NaN</td>\n",
       "      <td>0.792415</td>\n",
       "      <td>NaN</td>\n",
       "      <td>0.814743</td>\n",
       "      <td>0.726411</td>\n",
       "      <td>NaN</td>\n",
       "      <td>NaN</td>\n",
       "      <td>NaN</td>\n",
       "      <td>...</td>\n",
       "      <td>NaN</td>\n",
       "      <td>NaN</td>\n",
       "      <td>NaN</td>\n",
       "      <td>NaN</td>\n",
       "      <td>NaN</td>\n",
       "      <td>NaN</td>\n",
       "      <td>1.000000</td>\n",
       "      <td>NaN</td>\n",
       "      <td>0.113677</td>\n",
       "      <td>0.113677</td>\n",
       "    </tr>\n",
       "    <tr>\n",
       "      <th>carbon-footprint_100g</th>\n",
       "      <td>NaN</td>\n",
       "      <td>NaN</td>\n",
       "      <td>NaN</td>\n",
       "      <td>1.000000</td>\n",
       "      <td>NaN</td>\n",
       "      <td>1.000000</td>\n",
       "      <td>1.000000</td>\n",
       "      <td>NaN</td>\n",
       "      <td>NaN</td>\n",
       "      <td>NaN</td>\n",
       "      <td>...</td>\n",
       "      <td>NaN</td>\n",
       "      <td>NaN</td>\n",
       "      <td>NaN</td>\n",
       "      <td>NaN</td>\n",
       "      <td>NaN</td>\n",
       "      <td>NaN</td>\n",
       "      <td>NaN</td>\n",
       "      <td>1.0</td>\n",
       "      <td>1.000000</td>\n",
       "      <td>1.000000</td>\n",
       "    </tr>\n",
       "    <tr>\n",
       "      <th>nutrition-score-fr_100g</th>\n",
       "      <td>0.158047</td>\n",
       "      <td>0.006445</td>\n",
       "      <td>0.030940</td>\n",
       "      <td>0.490296</td>\n",
       "      <td>0.552104</td>\n",
       "      <td>0.564262</td>\n",
       "      <td>0.641661</td>\n",
       "      <td>NaN</td>\n",
       "      <td>NaN</td>\n",
       "      <td>NaN</td>\n",
       "      <td>...</td>\n",
       "      <td>0.352856</td>\n",
       "      <td>NaN</td>\n",
       "      <td>NaN</td>\n",
       "      <td>-0.724156</td>\n",
       "      <td>NaN</td>\n",
       "      <td>NaN</td>\n",
       "      <td>0.113677</td>\n",
       "      <td>1.0</td>\n",
       "      <td>1.000000</td>\n",
       "      <td>0.998978</td>\n",
       "    </tr>\n",
       "    <tr>\n",
       "      <th>nutrition-score-uk_100g</th>\n",
       "      <td>0.157326</td>\n",
       "      <td>0.006453</td>\n",
       "      <td>0.030163</td>\n",
       "      <td>0.491777</td>\n",
       "      <td>0.580010</td>\n",
       "      <td>0.565578</td>\n",
       "      <td>0.642552</td>\n",
       "      <td>NaN</td>\n",
       "      <td>NaN</td>\n",
       "      <td>NaN</td>\n",
       "      <td>...</td>\n",
       "      <td>0.352856</td>\n",
       "      <td>NaN</td>\n",
       "      <td>NaN</td>\n",
       "      <td>-0.412750</td>\n",
       "      <td>NaN</td>\n",
       "      <td>NaN</td>\n",
       "      <td>0.113677</td>\n",
       "      <td>1.0</td>\n",
       "      <td>0.998978</td>\n",
       "      <td>1.000000</td>\n",
       "    </tr>\n",
       "  </tbody>\n",
       "</table>\n",
       "<p>91 rows × 91 columns</p>\n",
       "</div>"
      ],
      "text/plain": [
       "                                         additives_n  \\\n",
       "additives_n                                 1.000000   \n",
       "ingredients_from_palm_oil_n                 0.005347   \n",
       "ingredients_that_may_be_from_palm_oil_n     0.242053   \n",
       "energy_100g                                -0.014508   \n",
       "energy-from-fat_100g                       -0.101322   \n",
       "...                                              ...   \n",
       "collagen-meat-protein-ratio_100g                 NaN   \n",
       "cocoa_100g                                 -0.590283   \n",
       "carbon-footprint_100g                            NaN   \n",
       "nutrition-score-fr_100g                     0.158047   \n",
       "nutrition-score-uk_100g                     0.157326   \n",
       "\n",
       "                                         ingredients_from_palm_oil_n  \\\n",
       "additives_n                                                 0.005347   \n",
       "ingredients_from_palm_oil_n                                 1.000000   \n",
       "ingredients_that_may_be_from_palm_oil_n                     0.006887   \n",
       "energy_100g                                                 0.003544   \n",
       "energy-from-fat_100g                                        0.051917   \n",
       "...                                                              ...   \n",
       "collagen-meat-protein-ratio_100g                                 NaN   \n",
       "cocoa_100g                                                       NaN   \n",
       "carbon-footprint_100g                                            NaN   \n",
       "nutrition-score-fr_100g                                     0.006445   \n",
       "nutrition-score-uk_100g                                     0.006453   \n",
       "\n",
       "                                         ingredients_that_may_be_from_palm_oil_n  \\\n",
       "additives_n                                                             0.242053   \n",
       "ingredients_from_palm_oil_n                                             0.006887   \n",
       "ingredients_that_may_be_from_palm_oil_n                                 1.000000   \n",
       "energy_100g                                                            -0.033238   \n",
       "energy-from-fat_100g                                                    0.175392   \n",
       "...                                                                          ...   \n",
       "collagen-meat-protein-ratio_100g                                             NaN   \n",
       "cocoa_100g                                                                   NaN   \n",
       "carbon-footprint_100g                                                        NaN   \n",
       "nutrition-score-fr_100g                                                 0.030940   \n",
       "nutrition-score-uk_100g                                                 0.030163   \n",
       "\n",
       "                                         energy_100g  energy-from-fat_100g  \\\n",
       "additives_n                                -0.014508             -0.101322   \n",
       "ingredients_from_palm_oil_n                 0.003544              0.051917   \n",
       "ingredients_that_may_be_from_palm_oil_n    -0.033238              0.175392   \n",
       "energy_100g                                 1.000000              0.772946   \n",
       "energy-from-fat_100g                        0.772946              1.000000   \n",
       "...                                              ...                   ...   \n",
       "collagen-meat-protein-ratio_100g                 NaN                   NaN   \n",
       "cocoa_100g                                  0.792415                   NaN   \n",
       "carbon-footprint_100g                       1.000000                   NaN   \n",
       "nutrition-score-fr_100g                     0.490296              0.552104   \n",
       "nutrition-score-uk_100g                     0.491777              0.580010   \n",
       "\n",
       "                                         fat_100g  saturated-fat_100g  \\\n",
       "additives_n                             -0.149549           -0.061000   \n",
       "ingredients_from_palm_oil_n              0.002154            0.002241   \n",
       "ingredients_that_may_be_from_palm_oil_n -0.013706            0.014613   \n",
       "energy_100g                              0.741531            0.531799   \n",
       "energy-from-fat_100g                     0.992143            0.714867   \n",
       "...                                           ...                 ...   \n",
       "collagen-meat-protein-ratio_100g              NaN                 NaN   \n",
       "cocoa_100g                               0.814743            0.726411   \n",
       "carbon-footprint_100g                    1.000000            1.000000   \n",
       "nutrition-score-fr_100g                  0.564262            0.641661   \n",
       "nutrition-score-uk_100g                  0.565578            0.642552   \n",
       "\n",
       "                                         -caprylic-acid_100g  \\\n",
       "additives_n                                              NaN   \n",
       "ingredients_from_palm_oil_n                              NaN   \n",
       "ingredients_that_may_be_from_palm_oil_n                  NaN   \n",
       "energy_100g                                              NaN   \n",
       "energy-from-fat_100g                                     NaN   \n",
       "...                                                      ...   \n",
       "collagen-meat-protein-ratio_100g                         NaN   \n",
       "cocoa_100g                                               NaN   \n",
       "carbon-footprint_100g                                    NaN   \n",
       "nutrition-score-fr_100g                                  NaN   \n",
       "nutrition-score-uk_100g                                  NaN   \n",
       "\n",
       "                                         -capric-acid_100g  -lauric-acid_100g  \\\n",
       "additives_n                                            NaN                NaN   \n",
       "ingredients_from_palm_oil_n                            NaN                NaN   \n",
       "ingredients_that_may_be_from_palm_oil_n                NaN                NaN   \n",
       "energy_100g                                            NaN                NaN   \n",
       "energy-from-fat_100g                                   NaN                NaN   \n",
       "...                                                    ...                ...   \n",
       "collagen-meat-protein-ratio_100g                       NaN                NaN   \n",
       "cocoa_100g                                             NaN                NaN   \n",
       "carbon-footprint_100g                                  NaN                NaN   \n",
       "nutrition-score-fr_100g                                NaN                NaN   \n",
       "nutrition-score-uk_100g                                NaN                NaN   \n",
       "\n",
       "                                         ...  caffeine_100g  taurine_100g  \\\n",
       "additives_n                              ...       0.295603           NaN   \n",
       "ingredients_from_palm_oil_n              ...            NaN           NaN   \n",
       "ingredients_that_may_be_from_palm_oil_n  ...            NaN           NaN   \n",
       "energy_100g                              ...      -0.027583           NaN   \n",
       "energy-from-fat_100g                     ...            NaN           NaN   \n",
       "...                                      ...            ...           ...   \n",
       "collagen-meat-protein-ratio_100g         ...            NaN           NaN   \n",
       "cocoa_100g                               ...            NaN           NaN   \n",
       "carbon-footprint_100g                    ...            NaN           NaN   \n",
       "nutrition-score-fr_100g                  ...       0.352856           NaN   \n",
       "nutrition-score-uk_100g                  ...       0.352856           NaN   \n",
       "\n",
       "                                         ph_100g  fruits-vegetables-nuts_100g  \\\n",
       "additives_n                                  NaN                    -0.305279   \n",
       "ingredients_from_palm_oil_n                  NaN                          NaN   \n",
       "ingredients_that_may_be_from_palm_oil_n      NaN                          NaN   \n",
       "energy_100g                                  NaN                    -0.078907   \n",
       "energy-from-fat_100g                         NaN                          NaN   \n",
       "...                                          ...                          ...   \n",
       "collagen-meat-protein-ratio_100g             NaN                          NaN   \n",
       "cocoa_100g                                   NaN                          NaN   \n",
       "carbon-footprint_100g                        NaN                          NaN   \n",
       "nutrition-score-fr_100g                      NaN                    -0.724156   \n",
       "nutrition-score-uk_100g                      NaN                    -0.412750   \n",
       "\n",
       "                                         fruits-vegetables-nuts-estimate_100g  \\\n",
       "additives_n                                                               NaN   \n",
       "ingredients_from_palm_oil_n                                               NaN   \n",
       "ingredients_that_may_be_from_palm_oil_n                                   NaN   \n",
       "energy_100g                                                               NaN   \n",
       "energy-from-fat_100g                                                      NaN   \n",
       "...                                                                       ...   \n",
       "collagen-meat-protein-ratio_100g                                          NaN   \n",
       "cocoa_100g                                                                NaN   \n",
       "carbon-footprint_100g                                                     NaN   \n",
       "nutrition-score-fr_100g                                                   NaN   \n",
       "nutrition-score-uk_100g                                                   NaN   \n",
       "\n",
       "                                         collagen-meat-protein-ratio_100g  \\\n",
       "additives_n                                                           NaN   \n",
       "ingredients_from_palm_oil_n                                           NaN   \n",
       "ingredients_that_may_be_from_palm_oil_n                               NaN   \n",
       "energy_100g                                                           NaN   \n",
       "energy-from-fat_100g                                                  NaN   \n",
       "...                                                                   ...   \n",
       "collagen-meat-protein-ratio_100g                                      NaN   \n",
       "cocoa_100g                                                            NaN   \n",
       "carbon-footprint_100g                                                 NaN   \n",
       "nutrition-score-fr_100g                                               NaN   \n",
       "nutrition-score-uk_100g                                               NaN   \n",
       "\n",
       "                                         cocoa_100g  carbon-footprint_100g  \\\n",
       "additives_n                               -0.590283                    NaN   \n",
       "ingredients_from_palm_oil_n                     NaN                    NaN   \n",
       "ingredients_that_may_be_from_palm_oil_n         NaN                    NaN   \n",
       "energy_100g                                0.792415                    1.0   \n",
       "energy-from-fat_100g                            NaN                    NaN   \n",
       "...                                             ...                    ...   \n",
       "collagen-meat-protein-ratio_100g                NaN                    NaN   \n",
       "cocoa_100g                                 1.000000                    NaN   \n",
       "carbon-footprint_100g                           NaN                    1.0   \n",
       "nutrition-score-fr_100g                    0.113677                    1.0   \n",
       "nutrition-score-uk_100g                    0.113677                    1.0   \n",
       "\n",
       "                                         nutrition-score-fr_100g  \\\n",
       "additives_n                                             0.158047   \n",
       "ingredients_from_palm_oil_n                             0.006445   \n",
       "ingredients_that_may_be_from_palm_oil_n                 0.030940   \n",
       "energy_100g                                             0.490296   \n",
       "energy-from-fat_100g                                    0.552104   \n",
       "...                                                          ...   \n",
       "collagen-meat-protein-ratio_100g                             NaN   \n",
       "cocoa_100g                                              0.113677   \n",
       "carbon-footprint_100g                                   1.000000   \n",
       "nutrition-score-fr_100g                                 1.000000   \n",
       "nutrition-score-uk_100g                                 0.998978   \n",
       "\n",
       "                                         nutrition-score-uk_100g  \n",
       "additives_n                                             0.157326  \n",
       "ingredients_from_palm_oil_n                             0.006453  \n",
       "ingredients_that_may_be_from_palm_oil_n                 0.030163  \n",
       "energy_100g                                             0.491777  \n",
       "energy-from-fat_100g                                    0.580010  \n",
       "...                                                          ...  \n",
       "collagen-meat-protein-ratio_100g                             NaN  \n",
       "cocoa_100g                                              0.113677  \n",
       "carbon-footprint_100g                                   1.000000  \n",
       "nutrition-score-fr_100g                                 0.998978  \n",
       "nutrition-score-uk_100g                                 1.000000  \n",
       "\n",
       "[91 rows x 91 columns]"
      ]
     },
     "execution_count": 52,
     "metadata": {},
     "output_type": "execute_result"
    }
   ],
   "source": [
    "us_df.corr()"
   ]
  },
  {
   "cell_type": "code",
   "execution_count": null,
   "id": "a18f284e",
   "metadata": {},
   "outputs": [],
   "source": []
  }
 ],
 "metadata": {
  "interpreter": {
   "hash": "31f2aee4e71d21fbe5cf8b01ff0e069b9275f58929596ceb00d14d90e3e16cd6"
  },
  "kernelspec": {
   "display_name": "Python 3",
   "language": "python",
   "name": "python3"
  },
  "language_info": {
   "codemirror_mode": {
    "name": "ipython",
    "version": 3
   },
   "file_extension": ".py",
   "mimetype": "text/x-python",
   "name": "python",
   "nbconvert_exporter": "python",
   "pygments_lexer": "ipython3",
   "version": "3.7.7"
  }
 },
 "nbformat": 4,
 "nbformat_minor": 5
}
